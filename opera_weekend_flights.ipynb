{
 "cells": [
  {
   "cell_type": "code",
   "execution_count": 2,
   "metadata": {},
   "outputs": [],
   "source": [
    "import pandas as pd\n",
    "import requests\n",
    "from bs4 import BeautifulSoup"
   ]
  },
  {
   "cell_type": "code",
   "execution_count": 3,
   "metadata": {},
   "outputs": [],
   "source": [
    "\n",
    "test = 'https://www.operabase.com/ressources/views/festivals/season_prod_fetch.php?id=93759&statut=&lang=en'\n",
    "\n",
    "# choosing year periods\n",
    "test = 'https://www.operabase.com/ressources/views/companies/season_period_fetch.php?id=787&lang=en'\n",
    "\n",
    "\n",
    "test = 'https://www.operabase.com/ressources/views/festivals/season_prod_fetch.php?id=120008&statut=&lang=en'\n",
    "\n",
    "#get a calendar view of an opera house\n",
    "test = 'https://www.operabase.com/ressources/views/companies/season_fetch_calendar.php?season=0801&code=snosn&ensid=no.Den+Norske+Opera&year=2019&statut=&lang=en'\n",
    "\n",
    "# get list of performances from one opera house\n",
    "test = 'https://www.operabase.com/ressources/views/companies/season_fetch.php?season=0801&code=snosn&ensid=no.Den+Norske+Opera&year=2019&statut=&lang=en'\n",
    "\n",
    "test = 'https://www.operabase.com/en'\n",
    "\n",
    "payload = 'country_iso=wd&city=&company=&company_name=&dotL=&comp_id=&comp_name=&work_id=&work_name=&artist_name=&artist_id=&from=20190802&to=20191113&default_venue='\n",
    "\n",
    "#\"/ressources/views/companies/season_fetch_calendar.php\",{season :season, code : code, ensid : ensid, year : year,statut : statut, lang : lang}, function( data )\n",
    "#120008\n",
    "\n",
    "s = requests.session()\n",
    "\n",
    "#iso \n",
    "#\"w\" - western europe\n",
    "#\"e\" - eastern europe\n",
    "#\"wd\" - world\n",
    "\n",
    "data = {\"country_iso\": \"fr\",\"from\":\"20190920\",\"to\":\"20190923\"}\n",
    "r = s.post(test, data = data)\n",
    "\n",
    "soup = BeautifulSoup(r.text, \"lxml\")"
   ]
  },
  {
   "cell_type": "code",
   "execution_count": 4,
   "metadata": {},
   "outputs": [
    {
     "data": {
      "text/plain": [
       "'\\n\\n<!DOCTYPE html>\\r\\n<html lang=\"en\">\\r\\n    <head>\\r\\n        <meta charset=\"UTF-8\"><script type=\"text/javascript\">window.NREUM||(NREUM={}),__nr_require=function(e,n,t){function r(t){if(!n[t]){var o=n[t]={exports:{}};e[t][0].call(o.exports,function(n){var o=e[t][1][n];return r(o||n)},o,o.exports)}return n[t].exports}if(\"function\"==typeof __nr_require)return __nr_require;for(var o=0;o<t.length;o++)r(t[o]);return r}({1:[function(e,n,t){function r(){}function o(e,n,t){return function(){return i(e,[c.now()].concat(u(arguments)),n?null:this,t),n?void 0:this}}var i=e(\"handle\"),a=e(3),u=e(4),f=e(\"ee\").get(\"tracer\"),c=e(\"loader\"),s=NREUM;\"undefined\"==typeof window.newrelic&&(newrelic=s);var p=[\"setPageViewName\",\"setCustomAttribute\",\"setErrorHandler\",\"finished\",\"addToTrace\",\"inlineHit\",\"addRelease\"],d=\"api-\",l=d+\"ixn-\";a(p,function(e,n){s[n]=o(d+n,!0,\"api\")}),s.addPageAction=o(d+\"addPageAction\",!0),s.setCurrentRouteName=o(d+\"routeName\",!0),n.exports=newrelic,s.interaction=function(){return(new r).get()};var m=r.prototype={createTracer:function(e,n){var t={},r=this,o=\"function\"==typeof n;return i(l+\"tracer\",[c.now(),e,t],r),function(){if(f.emit((o?\"\":\"no-\")+\"fn-start\",[c.now(),r,o],t),o)try{return n.apply(this,arguments)}catch(e){throw f.emit(\"fn-err\",[arguments,this,e],t),e}finally{f.emit(\"fn-end\",[c.now()],t)}}}};a(\"actionText,setName,setAttribute,save,ignore,onEnd,getContext,end,get\".split(\",\"),function(e,n){m[n]=o(l+n)}),newrelic.noticeError=function(e,n){\"string\"==typeof e&&(e=new Error(e)),i(\"err\",[e,c.now(),!1,n])}},{}],2:[function(e,n,t){function r(e,n){if(!o)return!1;if(e!==o)return!1;if(!n)return!0;if(!i)return!1;for(var t=i.split(\".\"),r=n.split(\".\"),a=0;a<r.length;a++)if(r[a]!==t[a])return!1;return!0}var o=null,i=null,a=/Version\\\\/(\\\\S+)\\\\s+Safari/;if(navigator.userAgent){var u=navigator.userAgent,f=u.match(a);f&&u.indexOf(\"Chrome\")===-1&&u.indexOf(\"Chromium\")===-1&&(o=\"Safari\",i=f[1])}n.exports={agent:o,version:i,match:r}},{}],3:[function(e,n,t){function r(e,n){var t=[],r=\"\",i=0;for(r in e)o.call(e,r)&&(t[i]=n(r,e[r]),i+=1);return t}var o=Object.prototype.hasOwnProperty;n.exports=r},{}],4:[function(e,n,t){function r(e,n,t){n||(n=0),\"undefined\"==typeof t&&(t=e?e.length:0);for(var r=-1,o=t-n||0,i=Array(o<0?0:o);++r<o;)i[r]=e[n+r];return i}n.exports=r},{}],5:[function(e,n,t){n.exports={exists:\"undefined\"!=typeof window.performance&&window.performance.timing&&\"undefined\"!=typeof window.performance.timing.navigationStart}},{}],ee:[function(e,n,t){function r(){}function o(e){function n(e){return e&&e instanceof r?e:e?f(e,u,i):i()}function t(t,r,o,i){if(!d.aborted||i){e&&e(t,r,o);for(var a=n(o),u=v(t),f=u.length,c=0;c<f;c++)u[c].apply(a,r);var p=s[y[t]];return p&&p.push([b,t,r,a]),a}}function l(e,n){h[e]=v(e).concat(n)}function m(e,n){var t=h[e];if(t)for(var r=0;r<t.length;r++)t[r]===n&&t.splice(r,1)}function v(e){return h[e]||[]}function g(e){return p[e]=p[e]||o(t)}function w(e,n){c(e,function(e,t){n=n||\"feature\",y[t]=n,n in s||(s[n]=[])})}var h={},y={},b={on:l,addEventListener:l,removeEventListener:m,emit:t,get:g,listeners:v,context:n,buffer:w,abort:a,aborted:!1};return b}function i(){return new r}function a(){(s.api||s.feature)&&(d.aborted=!0,s=d.backlog={})}var u=\"nr@context\",f=e(\"gos\"),c=e(3),s={},p={},d=n.exports=o();d.backlog=s},{}],gos:[function(e,n,t){function r(e,n,t){if(o.call(e,n))return e[n];var r=t();if(Object.defineProperty&&Object.keys)try{return Object.defineProperty(e,n,{value:r,writable:!0,enumerable:!1}),r}catch(i){}return e[n]=r,r}var o=Object.prototype.hasOwnProperty;n.exports=r},{}],handle:[function(e,n,t){function r(e,n,t,r){o.buffer([e],r),o.emit(e,n,t)}var o=e(\"ee\").get(\"handle\");n.exports=r,r.ee=o},{}],id:[function(e,n,t){function r(e){var n=typeof e;return!e||\"object\"!==n&&\"function\"!==n?-1:e===window?0:a(e,i,function(){return o++})}var o=1,i=\"nr@id\",a=e(\"gos\");n.exports=r},{}],loader:[function(e,n,t){function r(){if(!E++){var e=x.info=NREUM.info,n=l.getElementsByTagName(\"script\")[0];if(setTimeout(s.abort,3e4),!(e&&e.licenseKey&&e.applicationID&&n))return s.abort();c(y,function(n,t){e[n]||(e[n]=t)}),f(\"mark\",[\"onload\",a()+x.offset],null,\"api\");var t=l.createElement(\"script\");t.src=\"https://\"+e.agent,n.parentNode.insertBefore(t,n)}}function o(){\"complete\"===l.readyState&&i()}function i(){f(\"mark\",[\"domContent\",a()+x.offset],null,\"api\")}function a(){return O.exists&&performance.now?Math.round(performance.now()):(u=Math.max((new Date).getTime(),u))-x.offset}var u=(new Date).getTime(),f=e(\"handle\"),c=e(3),s=e(\"ee\"),p=e(2),d=window,l=d.document,m=\"addEventListener\",v=\"attachEvent\",g=d.XMLHttpRequest,w=g&&g.prototype;NREUM.o={ST:setTimeout,SI:d.setImmediate,CT:clearTimeout,XHR:g,REQ:d.Request,EV:d.Event,PR:d.Promise,MO:d.MutationObserver};var h=\"\"+location,y={beacon:\"bam.nr-data.net\",errorBeacon:\"bam.nr-data.net\",agent:\"js-agent.newrelic.com/nr-1130.min.js\"},b=g&&w&&w[m]&&!/CriOS/.test(navigator.userAgent),x=n.exports={offset:u,now:a,origin:h,features:{},xhrWrappable:b,userAgent:p};e(1),l[m]?(l[m](\"DOMContentLoaded\",i,!1),d[m](\"load\",r,!1)):(l[v](\"onreadystatechange\",o),d[v](\"onload\",r)),f(\"mark\",[\"firstbyte\",u],null,\"api\");var E=0,O=e(5)},{}]},{},[\"loader\"]);</script>\\r\\n        <meta name=\"viewport\" content=\"width=device-width, initial-scale=1.0\">\\r\\n        <link rel=\"shortcut icon\" href=\"/ressources/pix/icons/favicon.png?v=1565947151\" type=\"image/x-icon\">\\r\\n        <link rel=\"icon\" href=\"/ressources/pix/icons/favicon.png?v=1565947151\" type=\"image/x-icon\">\\r\\n        <title>Welcome to the world of operas, artists, composers - Operabase</title>\\r\\n\\t    <meta name=\"description\" content=\"Operatic activity worldwide since 1996, with over 485,000 performances and 95,000 artists in over 1,450 companies. Publishes season information to opera-goers in 23 languages. Search by artist, work, composer, city, company or dates. Professional tools for all actors\">\\r\\n        <link href=\\'https://fonts.googleapis.com/css?family=Open+Sans:400,600,400italic,600italic,700,700italic\\' rel=\\'stylesheet\\' type=\\'text/css\\'>\\r\\n\\t\\t<link href=\"https://fonts.googleapis.com/css?family=Playfair+Display&display=swap&subset=latin-ext\" rel=\"stylesheet\"> \\r\\n\\t\\t<link href=\"https://fonts.googleapis.com/css?family=Roboto:300,400,500,700&display=swap&subset=latin-ext\" rel=\"stylesheet\"> \\r\\n        <link rel=\"stylesheet\" href=\"/ressources/css/normalize.css\" type=\"text/css\"/>\\r\\n        <link href=\"/ressources/css/main.css?1566121707\" rel=\"stylesheet\" type=\"text/css\" />\\r\\n        <link href=\"/ressources/css/styles.css?1566121707\" rel=\"stylesheet\" type=\"text/css\" />\\r\\n        <link rel=\"stylesheet\" href=\"//cdnjs.cloudflare.com/ajax/libs/font-awesome/4.7.0/css/font-awesome.min.css\">\\r\\n        <script  type=\"text/javascript\" src=\"//ajax.googleapis.com/ajax/libs/jquery/2.1.3/jquery.min.js\"></script>\\r\\n        <script  type=\"text/javascript\" src=\"//code.jquery.com/ui/1.12.0/jquery-ui.min.js\"></script>\\r\\n        <script  type=\"text/javascript\" src=\"/ressources/js/fonctions.js\"></script>\\r\\n        <script src=\"/ressources/js/jquery/selectric.js\"></script>\\r\\n        <link href=\"/ressources/css/selectric.css\" rel=\"stylesheet\" type=\"text/css\">\\r\\n        <script type=\"text/javascript\" src=\"/ressources/js/jquery/source/jquery.fancybox.js?v=2.1.5\"></script>\\r\\n        <link rel=\"stylesheet\" type=\"text/css\" href=\"/ressources/js/jquery/source/jquery.fancybox.css?v=2.1.5\" media=\"screen\" />\\r\\n        <link rel=\"stylesheet\" type=\"text/css\" href=\"/ressources/js/jquery/source/helpers/jquery.fancybox-thumbs.css?v=1.0.7\" />\\r\\n        <script type=\"text/javascript\" src=\"/ressources/js/jquery/source/helpers/jquery.fancybox-thumbs.js?v=1.0.7\"></script>\\r\\n        <script type=\"text/javascript\" src=\"/ressources/js/jquery/jquery.mousewheel-3.0.6.pack.js\"></script>\\r\\n        <script type=\"text/javascript\" src=\"//cdnjs.cloudflare.com/ajax/libs/jquery.tablesorter/2.9.1/jquery.tablesorter.min.js\"></script>\\r\\n\\r\\n        <script type=\"text/javascript\">\\r\\n            window.__operabase =  window.__operabase || {};\\r\\n            window.__operabase.idart = \\'\\';\\r\\n            window.__operabase.url = \\'https://www.operabase.com/en\\';\\r\\n            window.__operabase.host = \\'www.operabase.com\\';\\r\\n            window.__operabase.afterview = \\'\\';\\r\\n            window.__operabase.lang = \\'en\\';\\r\\n            var idart = window.__operabase.idart;            \\r\\n            var url = window.__operabase.url;\\r\\n            var host = window.__operabase.host;\\r\\n            var afterview = window.__operabase.afterview ;\\r\\n            var lang = window.__operabase.lang;\\r\\n        </script> \\r\\n        \\r\\n\\t\\t\\t\\t\\r\\n\\t\\t\\t<script src=\"/ressources/js/home.js?1566121707\"></script>\\r\\n\\t\\t\\t<link rel=\"stylesheet\" type=\"text/css\" href=\"/ressources/css/home.css?1566121707\">\\r\\n\\t\\t\\t\\t\\r\\n        <link rel=\"stylesheet\" type=\"text/css\" href=\"/ressources/css/main_responsive.css?1566121707\">\\r\\n\\t\\t<link rel=\"canonical\" href=\"https://www.operabase.com/en\" />\\n\\t\\t<link rel=\"alternate\" href=\"https://www.operabase.com/\" hreflang=\"x-default\" />\\n\\t\\t<link rel=\"alternate\" href=\"https://www.operabase.com/bg\" hreflang=\"bg\" />\\n\\t\\t<link rel=\"alternate\" href=\"https://www.operabase.com/ca\" hreflang=\"ca\" />\\n\\t\\t<link rel=\"alternate\" href=\"https://www.operabase.com/cs\" hreflang=\"cs\" />\\n\\t\\t<link rel=\"alternate\" href=\"https://www.operabase.com/da\" hreflang=\"da\" />\\n\\t\\t<link rel=\"alternate\" href=\"https://www.operabase.com/de\" hreflang=\"de\" />\\n\\t\\t<link rel=\"alternate\" href=\"https://www.operabase.com/el\" hreflang=\"el\" />\\n\\t\\t<link rel=\"alternate\" href=\"https://www.operabase.com/en\" hreflang=\"en\" />\\n\\t\\t<link rel=\"alternate\" href=\"https://www.operabase.com/es\" hreflang=\"es\" />\\n\\t\\t<link rel=\"alternate\" href=\"https://www.operabase.com/et\" hreflang=\"et\" />\\n\\t\\t<link rel=\"alternate\" href=\"https://www.operabase.com/eu\" hreflang=\"eu\" />\\n\\t\\t<link rel=\"alternate\" href=\"https://www.operabase.com/fi\" hreflang=\"fi\" />\\n\\t\\t<link rel=\"alternate\" href=\"https://www.operabase.com/fr\" hreflang=\"fr\" />\\n\\t\\t<link rel=\"alternate\" href=\"https://www.operabase.com/ga\" hreflang=\"ga\" />\\n\\t\\t<link rel=\"alternate\" href=\"https://www.operabase.com/hu\" hreflang=\"hu\" />\\n\\t\\t<link rel=\"alternate\" href=\"https://www.operabase.com/is\" hreflang=\"is\" />\\n\\t\\t<link rel=\"alternate\" href=\"https://www.operabase.com/it\" hreflang=\"it\" />\\n\\t\\t<link rel=\"alternate\" href=\"https://www.operabase.com/lt\" hreflang=\"lt\" />\\n\\t\\t<link rel=\"alternate\" href=\"https://www.operabase.com/lv\" hreflang=\"lv\" />\\n\\t\\t<link rel=\"alternate\" href=\"https://www.operabase.com/mt\" hreflang=\"mt\" />\\n\\t\\t<link rel=\"alternate\" href=\"https://www.operabase.com/nl\" hreflang=\"nl\" />\\n\\t\\t<link rel=\"alternate\" href=\"https://www.operabase.com/no\" hreflang=\"no\" />\\n\\t\\t<link rel=\"alternate\" href=\"https://www.operabase.com/pl\" hreflang=\"pl\" />\\n\\t\\t<link rel=\"alternate\" href=\"https://www.operabase.com/pt\" hreflang=\"pt\" />\\n\\t\\t<link rel=\"alternate\" href=\"https://www.operabase.com/ro\" hreflang=\"ro\" />\\n\\t\\t<link rel=\"alternate\" href=\"https://www.operabase.com/ru\" hreflang=\"ru\" />\\n\\t\\t<link rel=\"alternate\" href=\"https://www.operabase.com/sk\" hreflang=\"sk\" />\\n\\t\\t<link rel=\"alternate\" href=\"https://www.operabase.com/sl\" hreflang=\"sl\" />\\n\\t\\t<link rel=\"alternate\" href=\"https://www.operabase.com/sv\" hreflang=\"sv\" />\\n        <script src=\"/ressources/js/jquery/print2.js\"></script>\\r\\n    \\r\\n    <script>\\n!function(){var analytics=window.analytics=window.analytics||[];if(!analytics.initialize)if(analytics.invoked)window.console&&console.error&&console.error(\"Segment snippet included twice.\");else{analytics.invoked=!0;analytics.methods=[\"trackSubmit\",\"trackClick\",\"trackLink\",\"trackForm\",\"pageview\",\"identify\",\"reset\",\"group\",\"track\",\"ready\",\"alias\",\"debug\",\"page\",\"once\",\"off\",\"on\"];analytics.factory=function(t){return function(){var e=Array.prototype.slice.call(arguments);e.unshift(t);analytics.push(e);return analytics}};for(var t=0;t<analytics.methods.length;t++){var e=analytics.methods[t];analytics[e]=analytics.factory(e)}analytics.load=function(t,e){var n=document.createElement(\"script\");n.type=\"text/javascript\";n.async=!0;n.src=\"https://cdn.segment.com/analytics.js/v1/\"+t+\"/analytics.min.js\";var a=document.getElementsByTagName(\"script\")[0];a.parentNode.insertBefore(n,a);analytics._loadOptions=e};analytics.SNIPPET_VERSION=\"4.1.0\";\\nanalytics.load(\"xzBvoxFjq6vJ1GS89fQOlBfP6W95HTWD\");\\n}}();\\nanalytics.page();\\n$.ajaxSetup({\\n    beforeSend: function(jqXHR, xhr){\\n      var url = xhr.url.split(\"?\")[0];\\n\\n      url = url.replace(\"/ressources/views/\", \"\");\\n      url = url.split(\"/\");\\n      var eventDomain = url.shift(1);\\n      var eventName = url.join(\".\").replace(\".php\", \"\");\\n      var data = xhr.type === \"POST\" ? xhr.data : (xhr.url.indexOf(\"?\")>=0 ? xhr.url.split(\"?\")[1] : \"\");\\n\\n      var result = {};\\n      data.split(\"&\").forEach(function(pair) {\\n        pair = pair.split(\"=\");\\n        result[pair[0]] = decodeURIComponent(pair[1] || \"\");\\n      });\\n      data = JSON.parse(JSON.stringify(result));\\n\\n      analytics.track(eventName, {\\n        action: eventName,\\n        data: data\\n      });\\n    }\\n  })</script>\\n\\r\\n        <!--link  rel=\"stylesheet\" href=\"/css/responsive_artist.css\" /-->\\r\\n        <link rel=\"stylesheet\" href=\"//code.jquery.com/ui/1.12.1/themes/base/jquery-ui.css\">\\r\\n        <link rel=\"stylesheet\" href=\"/ressources/css/ui_class.css\">\\r\\n        <script src=\"/ressources/js/jquery/storage.js\" type=\"text/javascript\"></script>\\r\\n        <script type=\"text/javascript\" src=\"/ressources/js/jquery/columnize.js\"></script>\\r\\n\\r\\n        <!--script type=\"text/javascript\" src=\"/js/jquery/jquery.mousewheel-3.0.6.pack.js\"></script-->\\r\\n\\r\\n\\r\\n            <script type=\"text/javascript\">\\r\\n            $(document).ready(function(){\\r\\n                document.oncontextmenu = mischandler;\\r\\n                document.onmousedown = mousehandler;\\r\\n                document.onmouseup = mousehandler;\\r\\n                var isCtrl = false;\\r\\n                document.onkeyup=function(e)\\r\\n                {\\r\\n                    if(e.which == 17)\\r\\n                        isCtrl=false;\\r\\n                }\\r\\n\\r\\n                document.onkeydown=function(e)\\r\\n                {\\r\\n                    if(e.which == 17)\\r\\n                        isCtrl=true;\\r\\n                    if(((e.which == 85) || (e.which == 117) || (e.which == 65) || (e.which == 97) || (e.which == 67) || (e.which == 99)) && isCtrl == true)\\r\\n                    {\\r\\n                        //alert(\\'For security reasons, copy has been disabled\\');\\r\\n                        return false;\\r\\n                    }\\r\\n                }\\r\\n            });\\r\\n            var isNS = (navigator.appName == \"Netscape\") ? 1 : 0;\\r\\n            if(navigator.appName == \"Netscape\") \\r\\n                document.captureEvents(Event.MOUSEDOWN||Event.MOUSEUP);\\r\\n            function mischandler(){ \\r\\n                return false;\\r\\n            }\\r\\n\\r\\n            function mousehandler(e){\\r\\n                var myevent = (isNS) ? e : event;\\r\\n                var eventbutton = (isNS) ? myevent.which : myevent.button;\\r\\n                if((eventbutton==2)||(eventbutton==3)) \\r\\n                    return false;\\r\\n            }\\r\\n        </script>\\r\\n        <!--main js-->\\r\\n        <script type=\"text/javascript\">\\r\\n            $(document).ready(function(){\\r\\n                var w = $(window).width();\\r\\n                if(w >1000){\\r\\n                    $(\\'.accueil_artists_img,#reset\\').tooltip({\\r\\n                        track: true,\\r\\n                        content: function () {\\r\\n                            return $(this).prop(\\'title\\');\\r\\n                        }\\r\\n                    });\\r\\n                }\\r\\n                $(\\'#menu_responsive\\').click(function(){\\r\\n                    var left_menu_width =  \\'200\\';\\r\\n                    if($(\\'#left_side\\').css(\\'display\\')==\\'none\\'){\\r\\n                    $(\\'#left_side\\').css({\\'position\\':\\'absolute\\',\\'background-color\\':\\'white\\',\\'z-index\\':\\'1000\\',\\'left\\':\\'-\\'+left_menu_width+\\'px\\',\\'display\\':\\'block\\'});  \\r\\n                    $(\\'#left_side\\').animate({left: \"+=\"+left_menu_width}, 500);\\r\\n                    }else{\\r\\n                        $(\\'#left_side\\').animate({left: \"-=\"+left_menu_width}, 500);\\r\\n                        setTimeout(function(){$(\\'#left_side\\').hide()}, 500);\\r\\n                    }\\r\\n                })\\r\\n\\r\\n                $(\\'.shadowbox\\').click(function(){\\r\\n                    $(\\'#form_top\\').submit();\\r\\n                })\\r\\n               \\r\\n                /* $(\\'#sub_header_ob_right\\').click(function(){alert\\r\\n                    if($(\\'.shadowbox img\\').prop(\\'id\\')==\\'login_button\\')\\r\\n                        $(\\'#login_div\\').show();\\r\\n                })*/\\r\\n                var w = $(\\'#left_side\\').width();\\r\\n                //$(\\'#right_side\\').css(\\'margin-left\\',w-8)\\r\\n                $(\\'#exit_bt\\').hover(\\r\\n                    function(){\\r\\n                        $(this).attr(\\'src\\',\\'/ressources/pix/icons/logout_rouge.png\\')\\r\\n                    },\\r\\n                    function(){\\r\\n                        $(this).attr(\\'src\\',\\'/ressources/pix/icons/logout.png\\')\\r\\n                });\\r\\n                $(\\'#login_button\\').hover(\\r\\n                    function(){\\r\\n                        $(this).attr(\\'src\\',\\'/ressources/pix/icons/login_rouge.png\\')\\r\\n                    },\\r\\n                    function(){\\r\\n                        $(this).attr(\\'src\\',\\'/ressources/pix/icons/login.png\\')\\r\\n                });\\r\\n                $(\\'.mailto\\').each(function(){\\r\\n                    var text = \\'\\';\\r\\n                    var content = \\'\\';\\r\\n                    var addr= \\'\\';\\r\\n                    text = $(this).html();\\r\\n                    addr = $(this).data(\\'id\\')+\\'@\\'+$(this).data(\\'host\\');\\r\\n                    content = $(this).data(\\'id\\')+\\'@\\'+$(this).data(\\'host\\');\\r\\n                    if(text!=\\'\\') content = text;\\r\\n                    $(this).html(\\'<a href=\"mailto:\\'+addr+\\'\" style=\"color: blue\">\\'+content+\\'</a>\\')\\r\\n                    $(this).removeAttr(\\'data-id\\');$(this).removeAttr(\\'data-host\\');\\r\\n                })\\r\\n\\r\\n                fancybox_iframe(\\'iframe\\')\\r\\n                fancybox_iframe(\\'fancybox\\')\\r\\n                fancybox_iframe_big(\\'fancybox_big\\')\\r\\n                fancybox_iframe_high(\\'artist_ifr\\')\\r\\n\\r\\n                $(\\'.fancybox-thumbs\\').fancybox({\\r\\n                    prevEffect : \\'false\\',\\r\\n                    nextEffect : \\'false\\',\\r\\n                    closeBtn  : false,\\r\\n                    arrows    : false,\\r\\n                    nextClick : true,\\r\\n                    helpers : {\\r\\n                        thumbs : {\\r\\n                            width  : 50,\\r\\n                            height : 50\\r\\n                        },\\r\\n                        title : {\\r\\n                            type : \\'inside\\'\\r\\n                        },\\r\\n                        overlay : {\\r\\n                            css:{\\r\\n                                \\'background\\' : \\'rgba(0,0,0,0.85)\\'\\r\\n                            }\\r\\n                        }\\r\\n                    }\\r\\n                });\\r\\n                \\r\\n\\r\\n            });\\r\\n        function pg_dimension4box(){\\r\\n                //Récupération des dimensions de la page\\r\\n                var xHeight = $(document).height();\\r\\n                var xWidth = $(window).width();\\r\\n                var url = window.location;$\\r\\n                $(\\'#form_login\\').show();\\r\\n                $(\\'#form_forgot\\').hide();\\r\\n\\r\\n            }\\r\\n            function showpassworw(input) {\\r\\n                var x = document.getElementById(input);\\r\\n                if (x.type === \"password\") {\\r\\n                    x.type = \"text\";\\r\\n                } else {\\r\\n                    x.type = \"password\";\\r\\n                }\\r\\n            }\\r\\n            function fancybox_iframe(e){\\r\\n                $(\".\"+e).fancybox({\\r\\n                    type: \"iframe\",\\r\\n                    autoCenter: true,\\r\\n                    fitToView\\t: true,\\r\\n                    autoSize\\t: true,\\r\\n                    closeClick\\t: false,\\r\\n                    openEffect\\t: \\'none\\',\\r\\n                    closeEffect\\t: \\'none\\'\\r\\n                });\\r\\n            }\\r\\n            function fancybox_iframe_high(e){\\r\\n                $(\".\"+e).fancybox({\\r\\n                    type: \"iframe\",\\r\\n                    autoCenter: true,\\r\\n                    fitToView\\t: true,\\r\\n                    width       :\\'60%\\',\\r\\n                    height       :\\'90%\\',\\r\\n                    autoSize\\t: false,\\r\\n                    closeClick\\t: false,\\r\\n                    openEffect\\t: \\'none\\',\\r\\n                    closeEffect\\t: \\'none\\'\\r\\n                });\\r\\n            }\\r\\n            function fancybox_iframe_big(e){\\r\\n                $(\".\"+e).fancybox({\\r\\n                    type: \"iframe\",\\r\\n                    autoCenter: true,\\r\\n                    fitToView\\t: true,\\r\\n                    width       :\\'80%\\',\\r\\n                    autoSize\\t: false,\\r\\n                    closeClick\\t: false,\\r\\n                    openEffect\\t: \\'none\\',\\r\\n                    closeEffect\\t: \\'none\\'\\r\\n                });\\r\\n            }\\r\\n            function fancybox_iframe_small(e){\\r\\n                $(\".\"+e).fancybox({\\r\\n                    type: \"iframe\",\\r\\n                    autoCenter: true,\\r\\n                    fitToView\\t: true,\\r\\n                    width       :\\'600\\',\\r\\n                    autoSize\\t: false,\\r\\n                    closeClick\\t: false,\\r\\n                    openEffect\\t: \\'none\\',\\r\\n                    closeEffect\\t: \\'none\\'\\r\\n                });\\r\\n            }\\r\\n        </script>\\r\\n\\r\\n\\t\\t<style>\\r\\n\\t\\t\\t.has-footer-warning div#hubspot-messages-iframe-container {\\r\\n\\t\\t\\t\\tbottom: 190px !important;\\r\\n\\t\\t\\t}\\r\\n\\r\\n\\t\\t\\t@media(min-width: 480px){\\r\\n\\t\\t\\t\\t.has-footer-warning div#hubspot-messages-iframe-container {\\r\\n\\t\\t\\t\\t\\tbottom: 150px !important;\\r\\n\\t\\t\\t\\t}\\r\\n\\t\\t\\t}\\r\\n\\r\\n\\t\\t\\t@media(min-width: 768px){\\r\\n\\t\\t\\t\\t.has-footer-warning div#hubspot-messages-iframe-container {\\r\\n\\t\\t\\t\\t\\tbottom: 72px !important;\\r\\n\\t\\t\\t\\t}\\r\\n\\t\\t\\t}\\r\\n\\r\\n\\t\\t\\t@media(min-width: 1200px){\\r\\n\\t\\t\\t\\t.has-footer-warning  div#hubspot-messages-iframe-container {\\r\\n\\t\\t\\t\\t\\tdiv#hubspot-messages-iframe-container {\\r\\n\\t\\t\\t\\t\\t\\tbottom: 52px !important;\\r\\n\\t\\t\\t\\t\\t}\\r\\n\\t\\t\\t\\t}\\r\\n\\t\\t\\t}\\r\\n\\t\\t</style>\\r\\n\\r\\n    </head>\\r\\n    <body>\\r\\n        <header class=\"clear main-header text-center-xss\">\\r\\n            <div class=\"menu_left_obicon\">\\r\\n                <a href=\"/en\">\\r\\n                    <img src=\"/ressources/pix/logos/top_full.png\" alt=\"Operabase - theatres, artists, festivals list\" title=\"Operabase - theatres, artists, festivals list\" height=\"22px\" />\\r\\n                </a>\\r\\n            </div>\\r\\n            <div class=\"header-right\">\\r\\n                <div id=\"header_ob\" class=\"clear\">\\r\\n                    <div class=\"float-right d-flex\">\\r\\n                        <div class=\"position-relative\"><a href=\"#\" id=\"lang-selector\" class=\"position-relative d-inline-block m-r-15 font-size-18 link_menu lang-selected triangle-1\">English</a><ul id=\"lang-select\" class=\"no-bullets d-none lang-select shadow-1 triangle-2 m-0\"><li><a lang=\"bg\" class=\"link_menu d-block\" href=\"/bg\">Български</a></li><li><a lang=\"ca\" class=\"link_menu d-block\" href=\"/ca\">Català</a></li><li><a lang=\"cs\" class=\"link_menu d-block\" href=\"/cs\">Čeština</a></li><li><a lang=\"da\" class=\"link_menu d-block\" href=\"/da\">Dansk</a></li><li><a lang=\"de\" class=\"link_menu d-block\" href=\"/de\">Deutsch</a></li><li><a lang=\"el\" class=\"link_menu d-block\" href=\"/el\">Ελληνικά</a></li><li><a lang=\"es\" class=\"link_menu d-block\" href=\"/es\">Español</a></li><li><a lang=\"et\" class=\"link_menu d-block\" href=\"/et\">Eesti</a></li><li><a lang=\"eu\" class=\"link_menu d-block\" href=\"/eu\">Euskara</a></li><li><a lang=\"fi\" class=\"link_menu d-block\" href=\"/fi\">Suomi</a></li><li><a lang=\"fr\" class=\"link_menu d-block\" href=\"/fr\">Français</a></li><li><a lang=\"ga\" class=\"link_menu d-block\" href=\"/ga\">Gaeilge</a></li><li><a lang=\"hu\" class=\"link_menu d-block\" href=\"/hu\">Magyar</a></li><li><a lang=\"is\" class=\"link_menu d-block\" href=\"/is\">Íslenska</a></li><li><a lang=\"it\" class=\"link_menu d-block\" href=\"/it\">Italiano</a></li><li><a lang=\"lt\" class=\"link_menu d-block\" href=\"/lt\">Lietuvių</a></li><li><a lang=\"lv\" class=\"link_menu d-block\" href=\"/lv\">Latviešu</a></li><li><a lang=\"mt\" class=\"link_menu d-block\" href=\"/mt\">Malti</a></li><li><a lang=\"nl\" class=\"link_menu d-block\" href=\"/nl\">Nederlands</a></li><li><a lang=\"no\" class=\"link_menu d-block\" href=\"/no\">Norsk</a></li><li><a lang=\"pl\" class=\"link_menu d-block\" href=\"/pl\">Polski</a></li><li><a lang=\"pt\" class=\"link_menu d-block\" href=\"/pt\">Português</a></li><li><a lang=\"ro\" class=\"link_menu d-block\" href=\"/ro\">Română</a></li><li><a lang=\"ru\" class=\"link_menu d-block\" href=\"/ru\">Русский</a></li><li><a lang=\"sk\" class=\"link_menu d-block\" href=\"/sk\">Slovenčina</a></li><li><a lang=\"sl\" class=\"link_menu d-block\" href=\"/sl\">Slovenščina</a></li><li><a lang=\"sv\" class=\"link_menu d-block\" href=\"/sv\">Svenska</a></li></ul></div>                        <div id=\"menu_responsive\">&#9776;</div>\\r\\n                    </div>\\r\\n                    <div class=\"page-header\">\\r\\n                                            </div>\\r\\n                </div>\\r\\n        </header>\\r\\n\\r\\n        <main class=\"conteneur_site\">\\r\\n            <!--div id=\"home_below_text\"><p style=\"text-align: justify;\">Hello and welcome! You surely noticed that Operabase looks a little different. While there have been a few changes behind the scenes, all the services Operabase provides\\xa0 remain the same, or even a little better. If you are having difficulties finding services or something isn\\'t working, please email us\\xa0<a href=\"mailto:contact@operabase.info\" target=\"_blank\">contact@operabase.info</a> and we will work to fix it as soon as possible.</p></div-->\\r\\n            <div  id=\"left_side\">\\r\\n            <ul>\\n        <li class=\"main_menu_left_title m-t-9 menu-info\">\\n        Introduction    </li>\\n    <li class=\"main_menu_left_line\">\\n        <a class=\"link_menu\" href=\"/intro/en\">Operabase</a>\\n    </li>\\n    <li class=\"main_menu_left_line\">\\n        <a class=\"link_menu\" href=\"/pro/en\">Professional</a>\\n    </li>\\n    <li class=\"main_menu_left_line\">\\n        <a class=\"link_menu\" href=\"/proartist/en\">Pro Artist</a>\\n    </li>\\n    <li class=\"main_menu_left_line\">\\n        <a class=\"link_menu\" href=\"/proagent/en\">Pro Agent</a>\\n    </li>\\n    <li class=\"main_menu_left_line\">\\n        <a class=\"link_menu\" href=\"/contact/en\" target=\"_top\">\\n            Contact Operabase        </a>\\n    </li>\\n    <li class=\"main_menu_left_title menu-performances\">\\n        Performances    </li>\\n    <li class=\"main_menu_left_line\">\\n        <a class=\"link_menu\" href=\"/perfs/en\" target=\"_top\">\\n            Performances        </a>\\n    </li>\\n    <li class=\"main_menu_left_line\">\\n        <a class=\"link_menu\" href=\"/curseason/en\" target=\"_top\">\\n            Season        </a>\\n    </li>\\n    <li class=\"main_menu_left_line\">\\n        <a class=\"link_menu\" href=\"/festivals/en\" target=\"_top\">\\n            Festivals        </a>\\n    </li>\\n    <li class=\"main_menu_left_line\">\\n        <a class=\"link_menu\" href=\"/articles/en\" target=\"_top\">\\n            Articles\\n        </a>\\n    </li>\\n    <li class=\"main_menu_left_line\">\\n        <a class=\"link_menu\" href=\"/highlights/en\" target=\"_top\">\\n            Highlights        </a>\\n    </li>\\n    <li class=\"main_menu_left_line\">\\n        <a class=\"link_menu\" href=\"/newandrare/en\" target=\"_top\">\\n            New & Rare\\n        </a>\\n    </li>\\n    <li class=\"main_menu_left_title menu-artists\">\\n         Artists    </li>\\n    <li class=\"main_menu_left_line\">\\n        <a class=\"link_menu\" href=\"/a/en\" target=\"_top\">\\n            Artists        </a>\\n    </li>\\n    <!--li class=\"main_menu_left_title\">\\n        Managers    </li-->\\n    <li class=\"main_menu_left_line\">\\n        <a class=\"link_menu\" href=\"/m/en\" target=\"_top\">\\n\\t\\t\\tManagers        </a>\\n    </li>\\n    <li class=\"main_menu_left_line\">\\n        <a class=\"link_menu\" href=\"/competitions/en\" target=\"_top\">\\n        \\tCompetitions        </a>\\n    </li>\\n         <li class=\"main_menu_left_title menu-companies\">\\n        Companies    </li>\\n    <li class=\"main_menu_left_line\">\\n        <a class=\"link_menu\" href=\"/c/en\" target=\"_top\">\\n            Companies        </a>\\n    </li>\\n    \\n    <li class=\"main_menu_left_line\">\\n        <a class=\"link_menu\" href=\"/maps/en\" target=\"_top\">Maps</a>\\n    </li>\\n        \\n    <li class=\"main_menu_left_title menu-production\">\\n        Productions    </li>\\n     \\n    <li class=\"main_menu_left_line\">\\n        <a class=\"link_menu\" href=\"/rentals/en\" target=\"_top\">\\n            Rentals        </a>\\n    </li>\\n    \\n     \\n    <li class=\"main_menu_left_title menu-reference\">\\n        Reference    </li>\\n    <li class=\"main_menu_left_line\">\\n        <a class=\"link_menu\" href=\"/statistics/en\" target=\"_top\">\\n            Statistics        </a>\\n    </li>\\n    <li class=\"main_menu_left_line\">\\n        <a class=\"link_menu\" href=\"/onthisday/en\" target=\"_top\">\\n            On these days        </a>\\n    </li>\\n                    <li class=\"main_menu_left_title menu-translation\">\\n        Translation    </li>\\n\\n    <li class=\"main_menu_left_line lang_left_area\">        \\n    <div class=\"position-relative\"><a href=\"#\" class=\"position-relative d-inline-block font-size-18 link_menu lang-selected lang-selected-sidebar triangle-1\">English</a><ul class=\"no-bullets d-none lang-select lang-select-sidebar shadow-1 triangle-2 m-0\"><li><a lang=\"bg\" class=\"link_menu d-block\" href=\"/bg\">Български</a></li><li><a lang=\"ca\" class=\"link_menu d-block\" href=\"/ca\">Català</a></li><li><a lang=\"cs\" class=\"link_menu d-block\" href=\"/cs\">Čeština</a></li><li><a lang=\"da\" class=\"link_menu d-block\" href=\"/da\">Dansk</a></li><li><a lang=\"de\" class=\"link_menu d-block\" href=\"/de\">Deutsch</a></li><li><a lang=\"el\" class=\"link_menu d-block\" href=\"/el\">Ελληνικά</a></li><li><a lang=\"es\" class=\"link_menu d-block\" href=\"/es\">Español</a></li><li><a lang=\"et\" class=\"link_menu d-block\" href=\"/et\">Eesti</a></li><li><a lang=\"eu\" class=\"link_menu d-block\" href=\"/eu\">Euskara</a></li><li><a lang=\"fi\" class=\"link_menu d-block\" href=\"/fi\">Suomi</a></li><li><a lang=\"fr\" class=\"link_menu d-block\" href=\"/fr\">Français</a></li><li><a lang=\"ga\" class=\"link_menu d-block\" href=\"/ga\">Gaeilge</a></li><li><a lang=\"hu\" class=\"link_menu d-block\" href=\"/hu\">Magyar</a></li><li><a lang=\"is\" class=\"link_menu d-block\" href=\"/is\">Íslenska</a></li><li><a lang=\"it\" class=\"link_menu d-block\" href=\"/it\">Italiano</a></li><li><a lang=\"lt\" class=\"link_menu d-block\" href=\"/lt\">Lietuvių</a></li><li><a lang=\"lv\" class=\"link_menu d-block\" href=\"/lv\">Latviešu</a></li><li><a lang=\"mt\" class=\"link_menu d-block\" href=\"/mt\">Malti</a></li><li><a lang=\"nl\" class=\"link_menu d-block\" href=\"/nl\">Nederlands</a></li><li><a lang=\"no\" class=\"link_menu d-block\" href=\"/no\">Norsk</a></li><li><a lang=\"pl\" class=\"link_menu d-block\" href=\"/pl\">Polski</a></li><li><a lang=\"pt\" class=\"link_menu d-block\" href=\"/pt\">Português</a></li><li><a lang=\"ro\" class=\"link_menu d-block\" href=\"/ro\">Română</a></li><li><a lang=\"ru\" class=\"link_menu d-block\" href=\"/ru\">Русский</a></li><li><a lang=\"sk\" class=\"link_menu d-block\" href=\"/sk\">Slovenčina</a></li><li><a lang=\"sl\" class=\"link_menu d-block\" href=\"/sl\">Slovenščina</a></li><li><a lang=\"sv\" class=\"link_menu d-block\" href=\"/sv\">Svenska</a></li></ul></div>   \\n    </li>\\n</ul>\\n            </div>\\r\\n            <div id=\"right_side\">\\r\\n                <div id=\"sub_header_ob\">\\r\\n                    <div id=\"sub_header_ob_left\">\\r\\n                                            </div>\\r\\n                    <div id=\"sub_header_ob_right\">\\r\\n                        <form style=\"cursor:pointer\" method=\"post\" action=\"/login/en\" id=\"form_top\"><input type=\"hidden\" name=\"page\" value=\"/en\"/><span class=\"shadowbox\"><img id=\"login_button\" alt=\"Login\" title=\"Login\" src=\"/ressources/pix/icons/login.png\" class=\"inline-block m-b--3 ico\"/> Login</span></form>                    </div>\\r\\n                </div>\\r\\n                <article>\\r\\n                    <div id=\"view\">\\r\\n                    \\n   \\n    \\n       \\n    \\n  <div id=\"cities_result\" class=\"artist_bloc\"> <div class=\"bordered_line_noborder list_title_big\" >France <span class=\"home_from_date\">From 20/09/2019 To 23/09/2019</span> <img id=\"calendar\" src=\"/ressources/pix/icons/week.png\" class=\"inline icon-calendar\" title=\"Calendar\"/><img id=\"list\" src=\"/ressources/pix/icons/list.png\" style=\"margin: 0 0 -10px 25px; width:40px; cursor: pointer\" class=\"inline\" title=\" List\"/><img id=\"print\" src=\"/ressources/pix/icons/print.png\" style=\"margin: 0 0 -10px 25px; width:40px; cursor: pointer\" class=\"inline\" /><img id=\"seven_more\" title=\"7 more days\" src=\"/ressources/pix/icons/seven_more.png\" style=\"margin: 0 0 -10px 25px; width:40px; cursor: pointer\" class=\"inline\" /></div><div id=\"no_calendar\" ><div class=\"bordered_line\"><div class=\"row\"><div class=\"cell perdate_cell\" style=\"font-weight: normal; min-width: 70px\">Fri 20/09</div><div class=\"cell\" style=\"width: 20px\"></div><div class=\"cell\" style=\"font-weight: normal\" data-nb=\"0\"><div class=\"float_left\"><span onclick=\"show_prod_perdate(\\'118274\\',\\'\\',\\'en\\',\\'0\\')\" style=\"font-weight: bold;cursor: pointer\">Les Puritains <span style=\"font-weight: normal\">(<i>I puritani</i>)</span></span></div><div class=\"float_left\"><span class=\"verticalbar\">|</span>Bellini</div><div class=\"float_left\"><span class=\"verticalbar\">|</span>Paris<span class=\"verticalbar\">|</span>Opéra Bastille</div></div><img src=\"/ressources/pix/icons/booking.png\" class=\"booking_icon float_left\"  title=\"booking.com\" onclick=\"show_booking(\\'118274\\',\\'Paris\\',\\'en\\')\" style=\"padding-top: 4px\"/><div class=\"clear_both\"></div></div><div class=\"row\"><div class=\"cell perdate_cell\" style=\"min-width: 70px\"></div><div class=\"cell\" style=\"width: 20px\"></div><div class=\"cell\" style=\"\"><div class=\"booking_info\" id=\"booking_118274\"></div><div id=\"content_118274_0\" class=\"ven_result\"></div></div></div><div class=\"row\"><div class=\"cell perdate_cell\" style=\"font-weight: normal; min-width: 70px\"></div><div class=\"cell\" style=\"width: 20px\"></div><div class=\"cell\" style=\"font-weight: normal\" data-nb=\"1\"><div class=\"float_left\"><span onclick=\"show_prod_perdate(\\'120369\\',\\'\\',\\'en\\',\\'1\\')\" style=\"font-weight: bold;cursor: pointer\">4.48 Psychosis</span></div><div class=\"float_left\"><span class=\"verticalbar\">|</span>Venables</div><div class=\"float_left\"><span class=\"verticalbar\">|</span>Strasbourg<span class=\"verticalbar\">|</span>Opéra de Strasbourg</div></div><img src=\"/ressources/pix/icons/booking.png\" class=\"booking_icon float_left\"  title=\"booking.com\" onclick=\"show_booking(\\'120369\\',\\'Strasbourg\\',\\'en\\')\" style=\"padding-top: 4px\"/><div class=\"clear_both\"></div></div><div class=\"row\"><div class=\"cell perdate_cell\" style=\"min-width: 70px\"></div><div class=\"cell\" style=\"width: 20px\"></div><div class=\"cell\" style=\"\"><div class=\"booking_info\" id=\"booking_120369\"></div><div id=\"content_120369_1\" class=\"ven_result\"></div></div></div></div><div class=\"bordered_line\"><div class=\"row\"><div class=\"cell perdate_cell\" style=\"font-weight: normal; min-width: 70px\">Sat 21/09</div><div class=\"cell\" style=\"width: 20px\"></div><div class=\"cell\" style=\"font-weight: normal\" data-nb=\"2\"><div class=\"float_left\"><span onclick=\"show_prod_perdate(\\'121493\\',\\'\\',\\'en\\',\\'2\\')\" style=\"font-weight: bold;cursor: pointer\">Les contes d\\'Hoffmann</span></div><div class=\"float_left\"><span class=\"verticalbar\">|</span>Offenbach</div><div class=\"float_left\"><span class=\"verticalbar\">|</span>Bordeaux<span class=\"verticalbar\">|</span>Grand-Théâtre</div></div><img src=\"/ressources/pix/icons/booking.png\" class=\"booking_icon float_left\"  title=\"booking.com\" onclick=\"show_booking(\\'121493\\',\\'Bordeaux\\',\\'en\\')\" style=\"padding-top: 4px\"/><div class=\"clear_both\"></div></div><div class=\"row\"><div class=\"cell perdate_cell\" style=\"min-width: 70px\"></div><div class=\"cell\" style=\"width: 20px\"></div><div class=\"cell\" style=\"\"><div class=\"booking_info\" id=\"booking_121493\"></div><div id=\"content_121493_2\" class=\"ven_result\"></div></div></div><div class=\"row\"><div class=\"cell perdate_cell\" style=\"font-weight: normal; min-width: 70px\"></div><div class=\"cell\" style=\"width: 20px\"></div><div class=\"cell\" style=\"font-weight: normal\" data-nb=\"3\"><div class=\"float_left\"><span onclick=\"show_prod_perdate(\\'106320\\',\\'\\',\\'en\\',\\'3\\')\" style=\"font-weight: bold;cursor: pointer\">La traviata</span></div><div class=\"float_left\"><span class=\"verticalbar\">|</span>Verdi</div><div class=\"float_left\"><span class=\"verticalbar\">|</span>Paris<span class=\"verticalbar\">|</span>Opéra Bastille</div></div><img src=\"/ressources/pix/icons/booking.png\" class=\"booking_icon float_left\"  title=\"booking.com\" onclick=\"show_booking(\\'106320\\',\\'Paris\\',\\'en\\')\" style=\"padding-top: 4px\"/><div class=\"clear_both\"></div></div><div class=\"row\"><div class=\"cell perdate_cell\" style=\"min-width: 70px\"></div><div class=\"cell\" style=\"width: 20px\"></div><div class=\"cell\" style=\"\"><div class=\"booking_info\" id=\"booking_106320\"></div><div id=\"content_106320_3\" class=\"ven_result\"></div></div></div><div class=\"row\"><div class=\"cell perdate_cell\" style=\"font-weight: normal; min-width: 70px\"></div><div class=\"cell\" style=\"width: 20px\"></div><div class=\"cell\" style=\"font-weight: normal\" data-nb=\"4\"><div class=\"float_left\"><span onclick=\"show_prod_perdate(\\'118243\\',\\'\\',\\'en\\',\\'4\\')\" style=\"font-weight: bold;cursor: pointer\">Iolanta</span></div><div class=\"float_left\"><span class=\"verticalbar\">|</span>Tchaikovsky,P</div><div class=\"float_left\"><span class=\"verticalbar\">|</span>Paris<span class=\"verticalbar\">|</span>Philharmonie de Paris</div></div><img src=\"/ressources/pix/icons/booking.png\" class=\"booking_icon float_left\"  title=\"booking.com\" onclick=\"show_booking(\\'118243\\',\\'Paris\\',\\'en\\')\" style=\"padding-top: 4px\"/><div class=\"clear_both\"></div></div><div class=\"row\"><div class=\"cell perdate_cell\" style=\"min-width: 70px\"></div><div class=\"cell\" style=\"width: 20px\"></div><div class=\"cell\" style=\"\"><div class=\"booking_info\" id=\"booking_118243\"></div><div id=\"content_118243_4\" class=\"ven_result\"></div></div></div><div class=\"row\"><div class=\"cell perdate_cell\" style=\"font-weight: normal; min-width: 70px\"></div><div class=\"cell\" style=\"width: 20px\"></div><div class=\"cell\" style=\"font-weight: normal\" data-nb=\"5\"><div class=\"float_left\"><span onclick=\"show_prod_perdate(\\'120369\\',\\'\\',\\'en\\',\\'5\\')\" style=\"font-weight: bold;cursor: pointer\">4.48 Psychosis</span></div><div class=\"float_left\"><span class=\"verticalbar\">|</span>Venables</div><div class=\"float_left\"><span class=\"verticalbar\">|</span>Strasbourg<span class=\"verticalbar\">|</span>Opéra de Strasbourg</div></div><img src=\"/ressources/pix/icons/booking.png\" class=\"booking_icon float_left\"  title=\"booking.com\" onclick=\"show_booking(\\'120369\\',\\'Strasbourg\\',\\'en\\')\" style=\"padding-top: 4px\"/><div class=\"clear_both\"></div></div><div class=\"row\"><div class=\"cell perdate_cell\" style=\"min-width: 70px\"></div><div class=\"cell\" style=\"width: 20px\"></div><div class=\"cell\" style=\"\"><div class=\"booking_info\" id=\"booking_120369\"></div><div id=\"content_120369_5\" class=\"ven_result\"></div></div></div></div><div class=\"bordered_line\"><div class=\"row\"><div class=\"cell perdate_cell\" style=\"font-weight: normal; min-width: 70px\">Sun 22/09</div><div class=\"cell\" style=\"width: 20px\"></div><div class=\"cell\" style=\"font-weight: normal\" data-nb=\"6\"><div class=\"float_left\"><span onclick=\"show_prod_perdate(\\'118244\\',\\'\\',\\'en\\',\\'6\\')\" style=\"font-weight: bold;cursor: pointer\">Parsifal</span></div><div class=\"float_left\"><span class=\"verticalbar\">|</span>Wagner,Richard</div><div class=\"float_left\"><span class=\"verticalbar\">|</span>Paris<span class=\"verticalbar\">|</span>Philharmonie de Paris</div></div><img src=\"/ressources/pix/icons/booking.png\" class=\"booking_icon float_left\"  title=\"booking.com\" onclick=\"show_booking(\\'118244\\',\\'Paris\\',\\'en\\')\" style=\"padding-top: 4px\"/><div class=\"clear_both\"></div></div><div class=\"row\"><div class=\"cell perdate_cell\" style=\"min-width: 70px\"></div><div class=\"cell\" style=\"width: 20px\"></div><div class=\"cell\" style=\"\"><div class=\"booking_info\" id=\"booking_118244\"></div><div id=\"content_118244_6\" class=\"ven_result\"></div></div></div><div class=\"row\"><div class=\"cell perdate_cell\" style=\"font-weight: normal; min-width: 70px\"></div><div class=\"cell\" style=\"width: 20px\"></div><div class=\"cell\" style=\"font-weight: normal\" data-nb=\"7\"><div class=\"float_left\"><span onclick=\"show_prod_perdate(\\'120369\\',\\'\\',\\'en\\',\\'7\\')\" style=\"font-weight: bold;cursor: pointer\">4.48 Psychosis</span></div><div class=\"float_left\"><span class=\"verticalbar\">|</span>Venables</div><div class=\"float_left\"><span class=\"verticalbar\">|</span>Strasbourg<span class=\"verticalbar\">|</span>Opéra de Strasbourg</div></div><img src=\"/ressources/pix/icons/booking.png\" class=\"booking_icon float_left\"  title=\"booking.com\" onclick=\"show_booking(\\'120369\\',\\'Strasbourg\\',\\'en\\')\" style=\"padding-top: 4px\"/><div class=\"clear_both\"></div></div><div class=\"row\"><div class=\"cell perdate_cell\" style=\"min-width: 70px\"></div><div class=\"cell\" style=\"width: 20px\"></div><div class=\"cell\" style=\"\"><div class=\"booking_info\" id=\"booking_120369\"></div><div id=\"content_120369_7\" class=\"ven_result\"></div></div></div></div></div><div id=\"cal_view\" class=\"m-t-9\"><table id=\"cal\" class=\"\"><thead><tr><th data-sorter=\"false\" class=\"bgwhite \">20</th><th data-sorter=\"false\" class=\"bggrey \">21</th><th data-sorter=\"false\" class=\"bggrey \">22</th><th data-sorter=\"false\" class=\"bgwhite \">23</th><th>Title</th><th style=\"min-width: 100px\">Composer</th><th style=\"min-width: 100px\">Company</th><th style=\"min-width: 90px\">Country</th></tr></thead><tbody>  <tr><td  class=\"bgblue\" ><img src=\"/ressources/pix/icons/checked.png\" width=\"16\"/></td><td  class=\"bggrey\" style=\"background-color: #EEE\"></td><td  class=\"bggrey\" style=\"background-color: #EEE\"></td><td  class=\"bgwhite\" ></td><td style=\"white-space: nowrap\"><a href=\"/ref/534/118274/en\" target=\"ref\">Les Puritains</a></td><td>Bellini</td><td><a href=\"/c/534/en\" target=\"ref\">Paris(Opera)</a></td><td style=\"white-space: nowrap\">France</td></tr><tr><td  class=\"bgblue\" ><img src=\"/ressources/pix/icons/checked.png\" width=\"16\"/></td><td  class=\"bgblue\" ><img src=\"/ressources/pix/icons/checked.png\" width=\"16\"/></td><td  class=\"bgblue\" >m</td><td  class=\"bgwhite\" ></td><td style=\"white-space: nowrap\"><a href=\"/ref/535/120369/en\" target=\"ref\">4.48 Psychosis</a></td><td>Venables</td><td><a href=\"/c/535/en\" target=\"ref\">Strasbourg(Opera)</a></td><td style=\"white-space: nowrap\">France</td></tr><tr><td  class=\"bgwhite\" ></td><td  class=\"bgblue\" ><img src=\"/ressources/pix/icons/checked.png\" width=\"16\"/></td><td  class=\"bggrey\" style=\"background-color: #EEE\"></td><td  class=\"bgwhite\" ></td><td style=\"white-space: nowrap\"><a href=\"/ref/532/121493/en\" target=\"ref\">Les contes d\\'Hoffmann</a></td><td>Offenbach</td><td><a href=\"/c/532/en\" target=\"ref\">Bordeaux</a></td><td style=\"white-space: nowrap\">France</td></tr><tr><td  class=\"bgwhite\" ></td><td  class=\"bgblue\" ><img src=\"/ressources/pix/icons/checked.png\" width=\"16\"/></td><td  class=\"bggrey\" style=\"background-color: #EEE\"></td><td  class=\"bgwhite\" ></td><td style=\"white-space: nowrap\"><a href=\"/ref/534/106320/en\" target=\"ref\">La traviata</a></td><td>Verdi</td><td><a href=\"/c/534/en\" target=\"ref\">Paris(Opera)</a></td><td style=\"white-space: nowrap\">France</td></tr><tr><td  class=\"bgwhite\" ></td><td  class=\"bgblue\" ><img src=\"/ressources/pix/icons/checked.png\" width=\"16\"/></td><td  class=\"bggrey\" style=\"background-color: #EEE\"></td><td  class=\"bgwhite\" ></td><td style=\"white-space: nowrap\"><a href=\"/ref/488/118243/en\" target=\"ref\">Iolanta</a></td><td>Tchaikovsky,P</td><td><a href=\"/c/488/en\" target=\"ref\">Paris(Cite)</a></td><td style=\"white-space: nowrap\">France</td></tr><tr><td  class=\"bgwhite\" ></td><td  class=\"bggrey\" style=\"background-color: #EEE\"></td><td  class=\"bgblue\" ><img src=\"/ressources/pix/icons/checked.png\" width=\"16\"/></td><td  class=\"bgwhite\" ></td><td style=\"white-space: nowrap\"><a href=\"/ref/488/118244/en\" target=\"ref\">Parsifal</a></td><td>Wagner,Richard</td><td><a href=\"/c/488/en\" target=\"ref\">Paris(Cite)</a></td><td style=\"white-space: nowrap\">France</td></tr></tbody>  </table></div></div>\\n  <div id=\"250_result\" class=\"artist_bloc\"></div>\\n  <div id=\"125_result\" class=\"artist_bloc\"></div>\\n  <form method=\"post\" id=\"form1\" class=\"hide_div\" action=\"/en\">\\n    <input type=\"text\" name=\"country_iso\" id=\"country_iso\"  value=\"fr\"/>\\n    \\n    <input type=\"text\" name=\"city\" id=\"city\" value=\"\"/>\\n    \\n    <input type=\"text\" name=\"company\" id=\"company\" value=\"\"/>\\n    \\n    <input type=\"text\" name=\"company_name\" id=\"company_name\" value=\"\"/>\\n    \\n    <input type=\"text\" name=\"dotL\" id=\"dotL\" value=\"\"/>\\n    \\n    <input type=\"text\" name=\"comp_id\" id=\"comp_id\" value=\"\"/>\\n    \\n    <input type=\"text\" name=\"comp_name\" id=\"comp_name\" value=\"\"/>\\n    \\n    <input type=\"text\" name=\"work_id\" id=\"work_id\" value=\"\"/>\\n    \\n    <input type=\"text\" name=\"work_name\" id=\"work_name\" value=\"\"/>\\n    \\n    <input type=\"text\" name=\"artist_name\" id=\"artist_name\" value=\"\"/>\\n    \\n    <input type=\"text\" name=\"artist_id\" id=\"artist_id\" value=\"\"/>\\n    \\n    <input type=\"text\" name=\"from\" id=\"from\" value=\"20190920\"/>\\n    \\n    <input type=\"text\" name=\"to\" id=\"to\" value=\"20190923\"/>\\n    \\n    <input type=\"text\" name=\"default_venue\" id=\"default_venue\" value=\"\"/>\\n  </form> \\n  <form method=\"post\" id=\"form1_back\" class=\"hide_div\" action=\"/en\">\\n    <input type=\"text\" name=\"country_iso_back\" id=\"country_iso_back\"  value=\"fr\"/>\\n    <input type=\"text\" name=\"city_back\" id=\"city_back\" value=\"\"/>\\n    <input type=\"text\" name=\"company_back\" id=\"company_back\" value=\"\"/>\\n    <input type=\"text\" name=\"company_name_back\" id=\"company_name_back\" value=\"\"/>\\n    <input type=\"text\" name=\"dotL_back\" id=\"dotL_back\" value=\"\"/>\\n    <input type=\"text\" name=\"comp_name_back\" id=\"comp_name_back\" value=\"\"/>\\n    <input type=\"text\" name=\"comp_id_back\" id=\"comp_id_back\" value=\"\"/>\\n    <input type=\"text\" name=\"work_name_back\" id=\"work_name_back\" value=\"\"/>\\n    <input type=\"text\" name=\"work_id_back\" id=\"work_id_back\" value=\"\"/>\\n    <input type=\"text\" name=\"artist_name_back\" id=\"artist_name_back\" value=\"\"/>\\n    <input type=\"text\" name=\"artist_id_back\" id=\"artist_id_back\" value=\"\"/>\\n    <input type=\"text\" name=\"from_back\" id=\"from_back\" value=\"20190920\"/>\\n    <input type=\"text\" name=\"to_back\" id=\"to_back\" value=\"20190923\"/>\\n  </form>\\n    \\n\\n                    </div>\\r\\n                </article>\\r\\n            </div>\\r\\n            <div class=\"clear_both\"></div>\\r\\n        </main>\\r\\n        <footer class=\"footer-main\">\\r\\n            <div class=\"container-fluid footer-top\">\\r\\n                <div class=\"footer-container\">\\r\\n                    <div class=\"row-bst text-center-xs\">\\r\\n                        <div class=\"col-sm-6 col-lg-3 m-b-15\">\\r\\n                            <a href=\"/en\" class=\"d-inline-block m-t-7\">\\r\\n                                <img src=\"/ressources/pix/logos/top_full.png\" alt=\"Operabase - theatres, artists, festivals list\" title=\"Operabase - theatres, artists, festivals list\" height=\"22px\" />\\r\\n                            </a>\\r\\n                            <div class=\"footer-copywrite\">\\r\\n                                The majority of Operabase\\'s information is provided free of charge. The public area contains access to the two most recent past, the current and future seasons.\\r\\n                            </div>\\r\\n                            <p class=\"footer-social m-t-20\">\\r\\n                                <a href=\"https://www.facebook.com/operabase/\" target=\"_blank\">\\r\\n                                    <img src=\"/ressources/pix/icons/facebook.svg\" alt=\"Join us on Facebook\" title=\"Join us on Facebook\" height=\"25px\" />\\r\\n                                </a>\\r\\n                                <a href=\"/cdn-cgi/l/email-protection#a2cdd2c7d0c3c0c3d1c78cc1cdccd6c3c1d6e2c5cfc3cbce8cc1cdcf\">\\r\\n                                    <img src=\"/ressources/pix/icons/envelope.svg\" alt=\"Contact us to get support\" title=\"Contact us to get support\" height=\"25px\" />\\r\\n                                </a>\\r\\n                            </p>\\r\\n                        </div>\\r\\n                        <div class=\"col-sm-6 col-lg-3 m-b-15\">\\r\\n                            <div class=\"p-l-xl-50\">\\r\\n                                <h5 class=\"text-uppercase font-size-20 m-t-7 m-b-15 font-weight-600\">\\r\\n                                    Main features\\r\\n                                </h5>\\r\\n                                <ul class=\"no-bullets p-0 d-inline-block m-r-30 m-t-0\">\\r\\n                                    <li><a href=\"/perfs/en\">Performances</a></li>\\r\\n                                    <li><a href=\"/curseason/en\">Season</a></li>\\r\\n                                    <li><a href=\"/festivals/en\">Festivals</a></li>\\r\\n                                    <li><a href=\"/pro/en\">Articles</a></li>\\r\\n                                    <li><a href=\"/highlights/en\">Highlights</a></li>\\r\\n                                    <li><a href=\"/a/en\">Artists</a></li>\\r\\n                                </ul>\\r\\n                                <ul class=\"no-bullets p-0 d-inline-block m-t-0 align-top\">\\r\\n                                    <li><a href=\"/competitions/en\">Competitions</a></li>\\r\\n                                    <li><a href=\"/c/en\">Companies</a></li>\\r\\n                                    <li><a href=\"/maps/en\">Maps</a></li>\\r\\n                                    <li><a href=\"/rentals/en\">Rentals</a></li>\\r\\n                                    <li><a href=\"/statistics/en\">Statistics</a></li>\\r\\n                                    <li><a href=\"/onthisday/en\">On these days</a></li>\\r\\n                                </ul>\\r\\n                            </div>\\r\\n                        </div>\\r\\n                        <div class=\"col-sm-6 col-lg-3 m-b-15\">\\r\\n                            <h5 class=\"text-uppercase font-size-20 m-t-7 m-b-15 font-weight-600\">New & Rare</h5>\\r\\n                            <div class=\"p-r-30 p-r-xs-0\">\\r\\n                                There are over 25,000 performances of opera every year. Use the New & Rare listing to find the more unusual works, the rarities and the world premieres.\\r\\n                            </div>\\r\\n                            <p>\\r\\n                                <a href=\"/newandrare/en\"> Go to listing</a>\\r\\n                            </p>\\r\\n                        </div>\\r\\n                        <div class=\"col-sm-6 col-lg-3 m-b-15\">\\r\\n                            <h5 class=\"text-uppercase font-size-20 m-t-7 m-b-15 font-weight-600\">Professional tools</h5>\\r\\n                            <ul class=\"no-bullets p-0 p-r-30 p-r-xs-0\">\\r\\n                                <li><a href=\"/pro/en\">Operabase Professional</a> for theatres and festivals</li>\\r\\n                                <li><a href=\"/proagent/en\">Operabase Pro Agent</a> for artist managers</li>\\r\\n                                <li><a href=\"/proartist/en\">Operabase Pro Artist</a> for all artists active in the lyrical world</li>\\r\\n                            </ul>\\r\\n                        </div>\\r\\n                    </div>\\r\\n                </div>\\r\\n            </div>\\r\\n            <div id=\"footer_warning\" class=\"d-none\">\\r\\n                <div class=\"footer-warning-container\">\\r\\n\\t\\t\\t\\t\\t<button id=\"cookieBtn\" class=\"float-right m-l-20\">OK, I AGREE</button>\\r\\n\\t\\t\\t\\t\\t<p>The information on the site is compiled in good faith from published opera house information. However, repertoire, venues, dates of performances and particularly casting are subject to changes. Therefore please check with the opera house before booking, as we can accept no responsibility for inaccuracies | <a href=\"/cookpol/en\">Cookie policy</a></p>\\t\\t\\t\\t\\t\\r\\n\\t\\t\\t\\t</div>\\r\\n            </div>\\r\\n    \\r\\n        </footer>\\r\\n        <script data-cfasync=\"false\" src=\"/cdn-cgi/scripts/5c5dd728/cloudflare-static/email-decode.min.js\"></script><script type=\"text/javascript\">\\r\\n            $(document).ready(function(){\\r\\n                $(\".lang-selected\").click(function(event){\\r\\n                    event.preventDefault();\\r\\n                    $(this).parent().find(\".lang-select\").fadeToggle( \"fast\", function() {});\\r\\n                })\\r\\n\\r\\n\\t\\t\\t\\t// Cookie Policy agreement\\r\\n\\t\\t\\t\\tfunction getCookie(name) {\\r\\n\\t\\t\\t\\t\\tvar v = document.cookie.match(\\'(^|;) ?\\' + name + \\'=([^;]*)(;|$)\\');\\r\\n\\t\\t\\t\\t\\treturn v ? v[2] : null;\\r\\n\\t\\t\\t\\t}\\r\\n\\r\\n\\t\\t\\t\\tfunction setCookie(name, value, days) {\\r\\n\\t\\t\\t\\t\\tvar d = new Date;\\r\\n\\t\\t\\t\\t\\td.setTime(d.getTime() + 24 * 60 * 60 * 1000 * days);\\r\\n\\t\\t\\t\\t\\tdocument.cookie = name + \"=\" + value + \";path=/;expires=\" + d.toGMTString();\\r\\n\\t\\t\\t\\t}\\r\\n\\r\\n\\t\\t\\t\\tvar cookieDiv = document.getElementById(\"footer_warning\")\\r\\n\\t\\t\\t\\tvar cookieBtn = document.getElementById(\"cookieBtn\")\\r\\n\\t\\t\\t\\tvar myCookie = getCookie(\"Operabase\");\\r\\n\\r\\n\\t\\t\\t\\tif(!myCookie) {\\r\\n\\t\\t\\t\\t\\t$(\"body\").addClass(\"has-footer-warning\");\\r\\n\\t\\t\\t\\t\\tcookieDiv.classList.remove(\"d-none\");\\r\\n\\t\\t\\t\\t\\tcookieDiv.classList.add(\"d-block\");\\r\\n\\r\\n\\t\\t\\t\\t\\tfunction footerPadding() {\\r\\n\\t\\t\\t\\t\\t\\tvar cookieDivHeight = $(cookieDiv).height();\\r\\n\\t\\t\\t\\t\\t\\t$(\".footer-top\").css(\"padding-bottom\", cookieDivHeight + \"px\");\\r\\n\\t\\t\\t\\t\\t}\\r\\n\\r\\n\\t\\t\\t\\t\\tfooterPadding();\\r\\n\\r\\n\\t\\t\\t\\t\\twindow.addEventListener(\"orientationchange\", function () {\\r\\n\\t\\t\\t\\t\\t\\tfooterPadding();\\r\\n\\t\\t\\t\\t\\t});\\r\\n\\r\\n\\t\\t\\t\\t\\twindow.addEventListener(\"resize\", function () {\\r\\n\\t\\t\\t\\t\\t\\tfooterPadding();\\r\\n\\t\\t\\t\\t\\t})\\r\\n\\t\\t\\t\\t}\\r\\n\\r\\n\\t\\t\\t\\tcookieBtn.addEventListener(\"click\", function () {\\r\\n\\t\\t\\t\\t\\t$(\"body\").removeClass(\"has-footer-warning\");\\r\\n\\t\\t\\t\\t\\tsetCookie(\\'Operabase\\', \\'true\\', 365);\\r\\n\\t\\t\\t\\t\\tcookieDiv.classList.remove(\"d-block\");\\r\\n\\t\\t\\t\\t\\tcookieDiv.classList.add(\"d-none\");\\r\\n\\t\\t\\t\\t\\t$(\".footer-top\").css(\"padding-bottom\", \"0px\");\\r\\n\\t\\t\\t\\t});\\r\\n            });\\r\\n        </script>\\r\\n        \\t\\t\\t<script type=\"text/javascript\" id=\"hs-script-loader\" async defer src=\"//js.hs-scripts.com/6012578.js\"></script>\\r\\n\\t\\t\\r\\n    <script type=\"text/javascript\">window.NREUM||(NREUM={});NREUM.info={\"beacon\":\"bam.eu01.nr-data.net\",\"licenseKey\":\"e507aad688\",\"applicationID\":\"638526\",\"transactionName\":\"MhBSZQoZWBZQV0FQWQtaZUMRV18LVVFNF0YNBQ==\",\"queueTime\":0,\"applicationTime\":13,\"atts\":\"HldRE0IDSxg=\",\"errorBeacon\":\"bam.eu01.nr-data.net\",\"agent\":\"\"}</script></body>\\r\\n</html>\\r\\n'"
      ]
     },
     "execution_count": 4,
     "metadata": {},
     "output_type": "execute_result"
    }
   ],
   "source": [
    "r.text"
   ]
  },
  {
   "cell_type": "code",
   "execution_count": 18,
   "metadata": {},
   "outputs": [
    {
     "data": {
      "text/plain": [
       "['>Fri 20/09', '>Sat 21/09', '>Sun 22/09']"
      ]
     },
     "execution_count": 18,
     "metadata": {},
     "output_type": "execute_result"
    }
   ],
   "source": [
    "#<div class=\"cell perdate_cell\"\n",
    "import re\n",
    "parsed_html = BeautifulSoup(r.text)\n",
    "#parsed_html.body.find('div', attrs={'class':'perdate_cell'}).text.strip()\n",
    "re.findall(\">(\\S{3}\\s\\d\\d/\\d\\d)\",r.text)\n",
    "\n"
   ]
  },
  {
   "cell_type": "code",
   "execution_count": 85,
   "metadata": {},
   "outputs": [
    {
     "name": "stdout",
     "output_type": "stream",
     "text": [
      "[<span onclick=\"show_prod_perdate('118274','','en','0')\" style=\"font-weight: bold;cursor: pointer\">Les Puritains <span style=\"font-weight: normal\">(<i>I puritani</i>)</span></span>, <span onclick=\"show_prod_perdate('120369','','en','1')\" style=\"font-weight: bold;cursor: pointer\">4.48 Psychosis</span>, <span onclick=\"show_prod_perdate('121493','','en','2')\" style=\"font-weight: bold;cursor: pointer\">Les contes d'Hoffmann</span>, <span onclick=\"show_prod_perdate('106320','','en','3')\" style=\"font-weight: bold;cursor: pointer\">La traviata</span>, <span onclick=\"show_prod_perdate('118243','','en','4')\" style=\"font-weight: bold;cursor: pointer\">Iolanta</span>, <span onclick=\"show_prod_perdate('120369','','en','5')\" style=\"font-weight: bold;cursor: pointer\">4.48 Psychosis</span>, <span onclick=\"show_prod_perdate('118244','','en','6')\" style=\"font-weight: bold;cursor: pointer\">Parsifal</span>, <span onclick=\"show_prod_perdate('120369','','en','7')\" style=\"font-weight: bold;cursor: pointer\">4.48 Psychosis</span>]\n"
     ]
    }
   ],
   "source": [
    "#<span onclick=\"show_prod_perdate\n",
    "#parsed_html.body.find_all('span', attrs={'style':'font-weight: bold;cursor: pointer'})\n",
    "perfs = parsed_html.body.find_all('span', onclick=True)\n",
    "#re.findall(\">(\\S{3}\\s\\d\\d/\\d\\d)\",r.text)\n",
    "print((perfs))"
   ]
  },
  {
   "cell_type": "code",
   "execution_count": 108,
   "metadata": {
    "scrolled": true
   },
   "outputs": [
    {
     "name": "stdout",
     "output_type": "stream",
     "text": [
      "0 ['118274', 'Les Puritains ']\n",
      "1 ['120369', '4.48 Psychosis']\n",
      "2 ['121493', \"Les contes d'Hoffmann\"]\n",
      "3 ['106320', 'La traviata']\n",
      "4 ['118243', 'Iolanta']\n",
      "5 ['120369', '4.48 Psychosis']\n",
      "6 ['118244', 'Parsifal']\n",
      "7 ['120369', '4.48 Psychosis']\n",
      "[['Les Puritains ', '118274', 'Bellini', 'Paris', 'Opéra Bastille'], ['4.48 Psychosis', '120369', 'Venables', 'Strasbourg', 'Opéra de Strasbourg'], [\"Les contes d'Hoffmann\", '121493', 'Offenbach', 'Bordeaux', 'Grand-Théâtre'], ['La traviata', '106320', 'Verdi', 'Paris', 'Opéra Bastille'], ['Iolanta', '118243', 'Tchaikovsky,P', 'Paris', 'Philharmonie de Paris'], ['4.48 Psychosis', '120369', 'Venables', 'Strasbourg', 'Opéra de Strasbourg'], ['Parsifal', '118244', 'Wagner,Richard', 'Paris', 'Philharmonie de Paris'], ['4.48 Psychosis', '120369', 'Venables', 'Strasbourg', 'Opéra de Strasbourg']]\n"
     ]
    }
   ],
   "source": [
    "#re.findall('pointer\">(.*?)<span.*?>\\|</span>(.*?)</div.*?>|</span>(.*?)<span*?>|</span>(.*?)</div>',r.text)\n",
    "temp = re.findall('\\|</span>(.*?)<',r.text)\n",
    "\n",
    "#t2 = [list(zip(['auth','city','venue'],temp[i:i+3])) for i in range(0,len(temp),3)]\n",
    "t2 = [temp[i:i+3] for i in range(0,len(temp),3)]\n",
    "#t2\n",
    "\n",
    "perfs2 = []\n",
    "for a in perfs:\n",
    "    #print(a)\n",
    "    b = re.findall(\"perdate\\('(.*?)'.*?>(.*?)<\", str(a))\n",
    "    #print(b)\n",
    "    perfs2.append(list(b[0]))\n",
    "#print(perfs2)\n",
    "t3=[]\n",
    "\n",
    "\n",
    "for i,row in enumerate(perfs2):\n",
    "    #print(i,row)\n",
    "    t3.append([row[1],row[0],t2[i][0],t2[i][1],t2[i][2]])\n",
    "    \n",
    "#t3 = [[b,a,c,d,e] for a,b in perfs2 for c,d,e in t2 ]\n",
    "print(t3)\n",
    "#[dict(zip(['ip', 'port', 'code', 'country','anonymity','google','https','updated'], \n",
    "#                          data[i:i+8])) for i in range(0, len(data), 8)]"
   ]
  },
  {
   "cell_type": "code",
   "execution_count": 102,
   "metadata": {},
   "outputs": [
    {
     "name": "stdout",
     "output_type": "stream",
     "text": [
      "Paris ['LBG' 'CDG' 'ORY']\n",
      "Strasbourg ['SXB']\n",
      "Bordeaux []\n",
      "Paris ['LBG' 'CDG' 'ORY']\n",
      "Paris ['LBG' 'CDG' 'ORY']\n",
      "Strasbourg ['SXB']\n",
      "Paris ['LBG' 'CDG' 'ORY']\n",
      "Strasbourg ['SXB']\n",
      "Paris ['LBG' 'CDG' 'ORY']\n",
      "Strasbourg ['SXB']\n",
      "Bordeaux []\n",
      "Paris ['LBG' 'CDG' 'ORY']\n",
      "Paris ['LBG' 'CDG' 'ORY']\n",
      "Strasbourg ['SXB']\n",
      "Paris ['LBG' 'CDG' 'ORY']\n",
      "Strasbourg ['SXB']\n",
      "Paris ['LBG' 'CDG' 'ORY']\n",
      "Strasbourg ['SXB']\n",
      "Bordeaux []\n",
      "Paris ['LBG' 'CDG' 'ORY']\n",
      "Paris ['LBG' 'CDG' 'ORY']\n",
      "Strasbourg ['SXB']\n",
      "Paris ['LBG' 'CDG' 'ORY']\n",
      "Strasbourg ['SXB']\n",
      "Paris ['LBG' 'CDG' 'ORY']\n",
      "Strasbourg ['SXB']\n",
      "Bordeaux []\n",
      "Paris ['LBG' 'CDG' 'ORY']\n",
      "Paris ['LBG' 'CDG' 'ORY']\n",
      "Strasbourg ['SXB']\n",
      "Paris ['LBG' 'CDG' 'ORY']\n",
      "Strasbourg ['SXB']\n",
      "Paris ['LBG' 'CDG' 'ORY']\n",
      "Strasbourg ['SXB']\n",
      "Bordeaux []\n",
      "Paris ['LBG' 'CDG' 'ORY']\n",
      "Paris ['LBG' 'CDG' 'ORY']\n",
      "Strasbourg ['SXB']\n",
      "Paris ['LBG' 'CDG' 'ORY']\n",
      "Strasbourg ['SXB']\n",
      "Paris ['LBG' 'CDG' 'ORY']\n",
      "Strasbourg ['SXB']\n",
      "Bordeaux []\n",
      "Paris ['LBG' 'CDG' 'ORY']\n",
      "Paris ['LBG' 'CDG' 'ORY']\n",
      "Strasbourg ['SXB']\n",
      "Paris ['LBG' 'CDG' 'ORY']\n",
      "Strasbourg ['SXB']\n",
      "Paris ['LBG' 'CDG' 'ORY']\n",
      "Strasbourg ['SXB']\n",
      "Bordeaux []\n",
      "Paris ['LBG' 'CDG' 'ORY']\n",
      "Paris ['LBG' 'CDG' 'ORY']\n",
      "Strasbourg ['SXB']\n",
      "Paris ['LBG' 'CDG' 'ORY']\n",
      "Strasbourg ['SXB']\n",
      "Paris ['LBG' 'CDG' 'ORY']\n",
      "Strasbourg ['SXB']\n",
      "Bordeaux []\n",
      "Paris ['LBG' 'CDG' 'ORY']\n",
      "Paris ['LBG' 'CDG' 'ORY']\n",
      "Strasbourg ['SXB']\n",
      "Paris ['LBG' 'CDG' 'ORY']\n",
      "Strasbourg ['SXB']\n"
     ]
    }
   ],
   "source": [
    "for _,_,_,i,_ in t3:\n",
    "    b = air_codes2.iata_code[air_codes2.municipality==i]\n",
    "    print(i,b.values)"
   ]
  },
  {
   "cell_type": "code",
   "execution_count": 5,
   "metadata": {
    "collapsed": true
   },
   "outputs": [
    {
     "data": {
      "text/html": [
       "<div id=\"cities_result\" class=\"artist_bloc\"> <div class=\"bordered_line_noborder list_title_big\" >France <span class=\"home_from_date\">From 20/09/2019 To 23/09/2019</span> <img id=\"calendar\" src=\"/ressources/pix/icons/week.png\" class=\"inline icon-calendar\" title=\"Calendar\"/><img id=\"list\" src=\"/ressources/pix/icons/list.png\" style=\"margin: 0 0 -10px 25px; width:40px; cursor: pointer\" class=\"inline\" title=\" List\"/><img id=\"print\" src=\"/ressources/pix/icons/print.png\" style=\"margin: 0 0 -10px 25px; width:40px; cursor: pointer\" class=\"inline\" /><img id=\"seven_more\" title=\"7 more days\" src=\"/ressources/pix/icons/seven_more.png\" style=\"margin: 0 0 -10px 25px; width:40px; cursor: pointer\" class=\"inline\" /></div><div id=\"no_calendar\" ><div class=\"bordered_line\"><div class=\"row\"><div class=\"cell perdate_cell\" style=\"font-weight: normal; min-width: 70px\">Fri 20/09</div><div class=\"cell\" style=\"width: 20px\"></div><div class=\"cell\" style=\"font-weight: normal\" data-nb=\"0\"><div class=\"float_left\"><span onclick=\"show_prod_perdate('118274','','en','0')\" style=\"font-weight: bold;cursor: pointer\">Les Puritains <span style=\"font-weight: normal\">(<i>I puritani</i>)</span></span></div><div class=\"float_left\"><span class=\"verticalbar\">|</span>Bellini</div><div class=\"float_left\"><span class=\"verticalbar\">|</span>Paris<span class=\"verticalbar\">|</span>Opéra Bastille</div></div><img src=\"/ressources/pix/icons/booking.png\" class=\"booking_icon float_left\"  title=\"booking.com\" onclick=\"show_booking('118274','Paris','en')\" style=\"padding-top: 4px\"/><div class=\"clear_both\"></div></div><div class=\"row\"><div class=\"cell perdate_cell\" style=\"min-width: 70px\"></div><div class=\"cell\" style=\"width: 20px\"></div><div class=\"cell\" style=\"\"><div class=\"booking_info\" id=\"booking_118274\"></div><div id=\"content_118274_0\" class=\"ven_result\"></div></div></div><div class=\"row\"><div class=\"cell perdate_cell\" style=\"font-weight: normal; min-width: 70px\"></div><div class=\"cell\" style=\"width: 20px\"></div><div class=\"cell\" style=\"font-weight: normal\" data-nb=\"1\"><div class=\"float_left\"><span onclick=\"show_prod_perdate('120369','','en','1')\" style=\"font-weight: bold;cursor: pointer\">4.48 Psychosis</span></div><div class=\"float_left\"><span class=\"verticalbar\">|</span>Venables</div><div class=\"float_left\"><span class=\"verticalbar\">|</span>Strasbourg<span class=\"verticalbar\">|</span>Opéra de Strasbourg</div></div><img src=\"/ressources/pix/icons/booking.png\" class=\"booking_icon float_left\"  title=\"booking.com\" onclick=\"show_booking('120369','Strasbourg','en')\" style=\"padding-top: 4px\"/><div class=\"clear_both\"></div></div><div class=\"row\"><div class=\"cell perdate_cell\" style=\"min-width: 70px\"></div><div class=\"cell\" style=\"width: 20px\"></div><div class=\"cell\" style=\"\"><div class=\"booking_info\" id=\"booking_120369\"></div><div id=\"content_120369_1\" class=\"ven_result\"></div></div></div></div><div class=\"bordered_line\"><div class=\"row\"><div class=\"cell perdate_cell\" style=\"font-weight: normal; min-width: 70px\">Sat 21/09</div><div class=\"cell\" style=\"width: 20px\"></div><div class=\"cell\" style=\"font-weight: normal\" data-nb=\"2\"><div class=\"float_left\"><span onclick=\"show_prod_perdate('121493','','en','2')\" style=\"font-weight: bold;cursor: pointer\">Les contes d'Hoffmann</span></div><div class=\"float_left\"><span class=\"verticalbar\">|</span>Offenbach</div><div class=\"float_left\"><span class=\"verticalbar\">|</span>Bordeaux<span class=\"verticalbar\">|</span>Grand-Théâtre</div></div><img src=\"/ressources/pix/icons/booking.png\" class=\"booking_icon float_left\"  title=\"booking.com\" onclick=\"show_booking('121493','Bordeaux','en')\" style=\"padding-top: 4px\"/><div class=\"clear_both\"></div></div><div class=\"row\"><div class=\"cell perdate_cell\" style=\"min-width: 70px\"></div><div class=\"cell\" style=\"width: 20px\"></div><div class=\"cell\" style=\"\"><div class=\"booking_info\" id=\"booking_121493\"></div><div id=\"content_121493_2\" class=\"ven_result\"></div></div></div><div class=\"row\"><div class=\"cell perdate_cell\" style=\"font-weight: normal; min-width: 70px\"></div><div class=\"cell\" style=\"width: 20px\"></div><div class=\"cell\" style=\"font-weight: normal\" data-nb=\"3\"><div class=\"float_left\"><span onclick=\"show_prod_perdate('106320','','en','3')\" style=\"font-weight: bold;cursor: pointer\">La traviata</span></div><div class=\"float_left\"><span class=\"verticalbar\">|</span>Verdi</div><div class=\"float_left\"><span class=\"verticalbar\">|</span>Paris<span class=\"verticalbar\">|</span>Opéra Bastille</div></div><img src=\"/ressources/pix/icons/booking.png\" class=\"booking_icon float_left\"  title=\"booking.com\" onclick=\"show_booking('106320','Paris','en')\" style=\"padding-top: 4px\"/><div class=\"clear_both\"></div></div><div class=\"row\"><div class=\"cell perdate_cell\" style=\"min-width: 70px\"></div><div class=\"cell\" style=\"width: 20px\"></div><div class=\"cell\" style=\"\"><div class=\"booking_info\" id=\"booking_106320\"></div><div id=\"content_106320_3\" class=\"ven_result\"></div></div></div><div class=\"row\"><div class=\"cell perdate_cell\" style=\"font-weight: normal; min-width: 70px\"></div><div class=\"cell\" style=\"width: 20px\"></div><div class=\"cell\" style=\"font-weight: normal\" data-nb=\"4\"><div class=\"float_left\"><span onclick=\"show_prod_perdate('118243','','en','4')\" style=\"font-weight: bold;cursor: pointer\">Iolanta</span></div><div class=\"float_left\"><span class=\"verticalbar\">|</span>Tchaikovsky,P</div><div class=\"float_left\"><span class=\"verticalbar\">|</span>Paris<span class=\"verticalbar\">|</span>Philharmonie de Paris</div></div><img src=\"/ressources/pix/icons/booking.png\" class=\"booking_icon float_left\"  title=\"booking.com\" onclick=\"show_booking('118243','Paris','en')\" style=\"padding-top: 4px\"/><div class=\"clear_both\"></div></div><div class=\"row\"><div class=\"cell perdate_cell\" style=\"min-width: 70px\"></div><div class=\"cell\" style=\"width: 20px\"></div><div class=\"cell\" style=\"\"><div class=\"booking_info\" id=\"booking_118243\"></div><div id=\"content_118243_4\" class=\"ven_result\"></div></div></div><div class=\"row\"><div class=\"cell perdate_cell\" style=\"font-weight: normal; min-width: 70px\"></div><div class=\"cell\" style=\"width: 20px\"></div><div class=\"cell\" style=\"font-weight: normal\" data-nb=\"5\"><div class=\"float_left\"><span onclick=\"show_prod_perdate('120369','','en','5')\" style=\"font-weight: bold;cursor: pointer\">4.48 Psychosis</span></div><div class=\"float_left\"><span class=\"verticalbar\">|</span>Venables</div><div class=\"float_left\"><span class=\"verticalbar\">|</span>Strasbourg<span class=\"verticalbar\">|</span>Opéra de Strasbourg</div></div><img src=\"/ressources/pix/icons/booking.png\" class=\"booking_icon float_left\"  title=\"booking.com\" onclick=\"show_booking('120369','Strasbourg','en')\" style=\"padding-top: 4px\"/><div class=\"clear_both\"></div></div><div class=\"row\"><div class=\"cell perdate_cell\" style=\"min-width: 70px\"></div><div class=\"cell\" style=\"width: 20px\"></div><div class=\"cell\" style=\"\"><div class=\"booking_info\" id=\"booking_120369\"></div><div id=\"content_120369_5\" class=\"ven_result\"></div></div></div></div>"
      ],
      "text/plain": [
       "<IPython.core.display.HTML object>"
      ]
     },
     "execution_count": 5,
     "metadata": {},
     "output_type": "execute_result"
    }
   ],
   "source": [
    "temp = '<div id=\"cities_result\" class=\"artist_bloc\"> <div class=\"bordered_line_noborder list_title_big\" >France <span class=\"home_from_date\">From 20/09/2019 To 23/09/2019</span> <img id=\"calendar\" src=\"/ressources/pix/icons/week.png\" class=\"inline icon-calendar\" title=\"Calendar\"/><img id=\"list\" src=\"/ressources/pix/icons/list.png\" style=\"margin: 0 0 -10px 25px; width:40px; cursor: pointer\" class=\"inline\" title=\" List\"/><img id=\"print\" src=\"/ressources/pix/icons/print.png\" style=\"margin: 0 0 -10px 25px; width:40px; cursor: pointer\" class=\"inline\" /><img id=\"seven_more\" title=\"7 more days\" src=\"/ressources/pix/icons/seven_more.png\" style=\"margin: 0 0 -10px 25px; width:40px; cursor: pointer\" class=\"inline\" /></div><div id=\"no_calendar\" ><div class=\"bordered_line\"><div class=\"row\"><div class=\"cell perdate_cell\" style=\"font-weight: normal; min-width: 70px\">Fri 20/09</div><div class=\"cell\" style=\"width: 20px\"></div><div class=\"cell\" style=\"font-weight: normal\" data-nb=\"0\"><div class=\"float_left\"><span onclick=\"show_prod_perdate(\\'118274\\',\\'\\',\\'en\\',\\'0\\')\" style=\"font-weight: bold;cursor: pointer\">Les Puritains <span style=\"font-weight: normal\">(<i>I puritani</i>)</span></span></div><div class=\"float_left\"><span class=\"verticalbar\">|</span>Bellini</div><div class=\"float_left\"><span class=\"verticalbar\">|</span>Paris<span class=\"verticalbar\">|</span>Opéra Bastille</div></div><img src=\"/ressources/pix/icons/booking.png\" class=\"booking_icon float_left\"  title=\"booking.com\" onclick=\"show_booking(\\'118274\\',\\'Paris\\',\\'en\\')\" style=\"padding-top: 4px\"/><div class=\"clear_both\"></div></div><div class=\"row\"><div class=\"cell perdate_cell\" style=\"min-width: 70px\"></div><div class=\"cell\" style=\"width: 20px\"></div><div class=\"cell\" style=\"\"><div class=\"booking_info\" id=\"booking_118274\"></div><div id=\"content_118274_0\" class=\"ven_result\"></div></div></div><div class=\"row\"><div class=\"cell perdate_cell\" style=\"font-weight: normal; min-width: 70px\"></div><div class=\"cell\" style=\"width: 20px\"></div><div class=\"cell\" style=\"font-weight: normal\" data-nb=\"1\"><div class=\"float_left\"><span onclick=\"show_prod_perdate(\\'120369\\',\\'\\',\\'en\\',\\'1\\')\" style=\"font-weight: bold;cursor: pointer\">4.48 Psychosis</span></div><div class=\"float_left\"><span class=\"verticalbar\">|</span>Venables</div><div class=\"float_left\"><span class=\"verticalbar\">|</span>Strasbourg<span class=\"verticalbar\">|</span>Opéra de Strasbourg</div></div><img src=\"/ressources/pix/icons/booking.png\" class=\"booking_icon float_left\"  title=\"booking.com\" onclick=\"show_booking(\\'120369\\',\\'Strasbourg\\',\\'en\\')\" style=\"padding-top: 4px\"/><div class=\"clear_both\"></div></div><div class=\"row\"><div class=\"cell perdate_cell\" style=\"min-width: 70px\"></div><div class=\"cell\" style=\"width: 20px\"></div><div class=\"cell\" style=\"\"><div class=\"booking_info\" id=\"booking_120369\"></div><div id=\"content_120369_1\" class=\"ven_result\"></div></div></div></div><div class=\"bordered_line\"><div class=\"row\"><div class=\"cell perdate_cell\" style=\"font-weight: normal; min-width: 70px\">Sat 21/09</div><div class=\"cell\" style=\"width: 20px\"></div><div class=\"cell\" style=\"font-weight: normal\" data-nb=\"2\"><div class=\"float_left\"><span onclick=\"show_prod_perdate(\\'121493\\',\\'\\',\\'en\\',\\'2\\')\" style=\"font-weight: bold;cursor: pointer\">Les contes d\\'Hoffmann</span></div><div class=\"float_left\"><span class=\"verticalbar\">|</span>Offenbach</div><div class=\"float_left\"><span class=\"verticalbar\">|</span>Bordeaux<span class=\"verticalbar\">|</span>Grand-Théâtre</div></div><img src=\"/ressources/pix/icons/booking.png\" class=\"booking_icon float_left\"  title=\"booking.com\" onclick=\"show_booking(\\'121493\\',\\'Bordeaux\\',\\'en\\')\" style=\"padding-top: 4px\"/><div class=\"clear_both\"></div></div><div class=\"row\"><div class=\"cell perdate_cell\" style=\"min-width: 70px\"></div><div class=\"cell\" style=\"width: 20px\"></div><div class=\"cell\" style=\"\"><div class=\"booking_info\" id=\"booking_121493\"></div><div id=\"content_121493_2\" class=\"ven_result\"></div></div></div><div class=\"row\"><div class=\"cell perdate_cell\" style=\"font-weight: normal; min-width: 70px\"></div><div class=\"cell\" style=\"width: 20px\"></div><div class=\"cell\" style=\"font-weight: normal\" data-nb=\"3\"><div class=\"float_left\"><span onclick=\"show_prod_perdate(\\'106320\\',\\'\\',\\'en\\',\\'3\\')\" style=\"font-weight: bold;cursor: pointer\">La traviata</span></div><div class=\"float_left\"><span class=\"verticalbar\">|</span>Verdi</div><div class=\"float_left\"><span class=\"verticalbar\">|</span>Paris<span class=\"verticalbar\">|</span>Opéra Bastille</div></div><img src=\"/ressources/pix/icons/booking.png\" class=\"booking_icon float_left\"  title=\"booking.com\" onclick=\"show_booking(\\'106320\\',\\'Paris\\',\\'en\\')\" style=\"padding-top: 4px\"/><div class=\"clear_both\"></div></div><div class=\"row\"><div class=\"cell perdate_cell\" style=\"min-width: 70px\"></div><div class=\"cell\" style=\"width: 20px\"></div><div class=\"cell\" style=\"\"><div class=\"booking_info\" id=\"booking_106320\"></div><div id=\"content_106320_3\" class=\"ven_result\"></div></div></div><div class=\"row\"><div class=\"cell perdate_cell\" style=\"font-weight: normal; min-width: 70px\"></div><div class=\"cell\" style=\"width: 20px\"></div><div class=\"cell\" style=\"font-weight: normal\" data-nb=\"4\"><div class=\"float_left\"><span onclick=\"show_prod_perdate(\\'118243\\',\\'\\',\\'en\\',\\'4\\')\" style=\"font-weight: bold;cursor: pointer\">Iolanta</span></div><div class=\"float_left\"><span class=\"verticalbar\">|</span>Tchaikovsky,P</div><div class=\"float_left\"><span class=\"verticalbar\">|</span>Paris<span class=\"verticalbar\">|</span>Philharmonie de Paris</div></div><img src=\"/ressources/pix/icons/booking.png\" class=\"booking_icon float_left\"  title=\"booking.com\" onclick=\"show_booking(\\'118243\\',\\'Paris\\',\\'en\\')\" style=\"padding-top: 4px\"/><div class=\"clear_both\"></div></div><div class=\"row\"><div class=\"cell perdate_cell\" style=\"min-width: 70px\"></div><div class=\"cell\" style=\"width: 20px\"></div><div class=\"cell\" style=\"\"><div class=\"booking_info\" id=\"booking_118243\"></div><div id=\"content_118243_4\" class=\"ven_result\"></div></div></div><div class=\"row\"><div class=\"cell perdate_cell\" style=\"font-weight: normal; min-width: 70px\"></div><div class=\"cell\" style=\"width: 20px\"></div><div class=\"cell\" style=\"font-weight: normal\" data-nb=\"5\"><div class=\"float_left\"><span onclick=\"show_prod_perdate(\\'120369\\',\\'\\',\\'en\\',\\'5\\')\" style=\"font-weight: bold;cursor: pointer\">4.48 Psychosis</span></div><div class=\"float_left\"><span class=\"verticalbar\">|</span>Venables</div><div class=\"float_left\"><span class=\"verticalbar\">|</span>Strasbourg<span class=\"verticalbar\">|</span>Opéra de Strasbourg</div></div><img src=\"/ressources/pix/icons/booking.png\" class=\"booking_icon float_left\"  title=\"booking.com\" onclick=\"show_booking(\\'120369\\',\\'Strasbourg\\',\\'en\\')\" style=\"padding-top: 4px\"/><div class=\"clear_both\"></div></div><div class=\"row\"><div class=\"cell perdate_cell\" style=\"min-width: 70px\"></div><div class=\"cell\" style=\"width: 20px\"></div><div class=\"cell\" style=\"\"><div class=\"booking_info\" id=\"booking_120369\"></div><div id=\"content_120369_5\" class=\"ven_result\"></div></div></div></div>'\n",
    "from IPython.core.display import HTML\n",
    "HTML(temp)"
   ]
  },
  {
   "cell_type": "code",
   "execution_count": 58,
   "metadata": {},
   "outputs": [
    {
     "name": "stdout",
     "output_type": "stream",
     "text": [
      "      ident            type                               name  elevation_ft  \\\n",
      "10435  AGGH  medium_airport      Honiara International Airport          28.0   \n",
      "10440  AGGM  medium_airport                      Munda Airport          10.0   \n",
      "10462   AHJ  medium_airport                   Hongyuan Airport       11600.0   \n",
      "10686  ANYN  medium_airport        Nauru International Airport          22.0   \n",
      "11648   AXF  medium_airport  Alxa Left Banner Bayanhot Airport        4560.0   \n",
      "\n",
      "      continent iso_country iso_region    municipality gps_code iata_code  \\\n",
      "10435        OC          SB      SB-CT         Honiara     AGGH       HIR   \n",
      "10440        OC          SB      SB-WE             NaN     AGGM       MUA   \n",
      "10462        AS          CN      CN-51             Aba     ZUHY       AHJ   \n",
      "10686        OC          NR      NR-14  Yaren District     ANYN       INU   \n",
      "11648        AS          CN      CN-15        Bayanhot     ZBAL       AXF   \n",
      "\n",
      "      local_code                             coordinates  \n",
      "10435        NaN       -9.4280004501343, 160.05499267578  \n",
      "10440        NaN  -8.327969551086426, 157.26300048828125  \n",
      "10462        NaN                     32.53154, 102.35224  \n",
      "10686        NaN                   -0.547458, 166.919006  \n",
      "11648        NaN                     38.74831, 105.58858  \n"
     ]
    }
   ],
   "source": [
    "air_codes=pd.read_csv('airport-codes.csv',header=0)\n",
    "air_codes2=air_codes[(air_codes.iso_country!='US') \n",
    "                     & (air_codes.iata_code.notnull()) \n",
    "                     ]\n",
    "air_codes2 = air_codes2[(air_codes2.type =='medium_airport') | (air_codes2.type =='large_airport')]\n",
    "\n",
    "print(air_codes2.head())\n",
    "air_codes2.to_csv('airport-codes-non-us.csv',index=False)"
   ]
  },
  {
   "cell_type": "code",
   "execution_count": 104,
   "metadata": {},
   "outputs": [
    {
     "data": {
      "text/html": [
       "<div>\n",
       "<style scoped>\n",
       "    .dataframe tbody tr th:only-of-type {\n",
       "        vertical-align: middle;\n",
       "    }\n",
       "\n",
       "    .dataframe tbody tr th {\n",
       "        vertical-align: top;\n",
       "    }\n",
       "\n",
       "    .dataframe thead th {\n",
       "        text-align: right;\n",
       "    }\n",
       "</style>\n",
       "<table border=\"1\" class=\"dataframe\">\n",
       "  <thead>\n",
       "    <tr style=\"text-align: right;\">\n",
       "      <th></th>\n",
       "      <th>ident</th>\n",
       "      <th>type</th>\n",
       "      <th>name</th>\n",
       "      <th>elevation_ft</th>\n",
       "      <th>continent</th>\n",
       "      <th>iso_country</th>\n",
       "      <th>iso_region</th>\n",
       "      <th>municipality</th>\n",
       "      <th>gps_code</th>\n",
       "      <th>iata_code</th>\n",
       "      <th>local_code</th>\n",
       "      <th>coordinates</th>\n",
       "    </tr>\n",
       "  </thead>\n",
       "  <tbody>\n",
       "    <tr>\n",
       "      <th>20873</th>\n",
       "      <td>FR-0024</td>\n",
       "      <td>heliport</td>\n",
       "      <td>Pellegrin Centre Hospitalier Heliport</td>\n",
       "      <td>344.0</td>\n",
       "      <td>EU</td>\n",
       "      <td>FR</td>\n",
       "      <td>FR-B</td>\n",
       "      <td>Bordeaux</td>\n",
       "      <td>NaN</td>\n",
       "      <td>NaN</td>\n",
       "      <td>NaN</td>\n",
       "      <td>44.82749938964844, -0.6044440269470215</td>\n",
       "    </tr>\n",
       "    <tr>\n",
       "      <th>20876</th>\n",
       "      <td>FR-0027</td>\n",
       "      <td>heliport</td>\n",
       "      <td>Robert Piqué Hôpital Militaire Heliport</td>\n",
       "      <td>62.0</td>\n",
       "      <td>EU</td>\n",
       "      <td>FR</td>\n",
       "      <td>FR-B</td>\n",
       "      <td>Bordeaux</td>\n",
       "      <td>NaN</td>\n",
       "      <td>NaN</td>\n",
       "      <td>NaN</td>\n",
       "      <td>44.79999923706055, -0.574167013168335</td>\n",
       "    </tr>\n",
       "    <tr>\n",
       "      <th>31029</th>\n",
       "      <td>LFDO</td>\n",
       "      <td>closed</td>\n",
       "      <td>Bordeaux Souge Air Base</td>\n",
       "      <td>135.0</td>\n",
       "      <td>EU</td>\n",
       "      <td>FR</td>\n",
       "      <td>FR-B</td>\n",
       "      <td>Bordeaux</td>\n",
       "      <td>LFDO</td>\n",
       "      <td>NaN</td>\n",
       "      <td>NaN</td>\n",
       "      <td>44.851093, -0.805493</td>\n",
       "    </tr>\n",
       "  </tbody>\n",
       "</table>\n",
       "</div>"
      ],
      "text/plain": [
       "         ident      type                                     name  \\\n",
       "20873  FR-0024  heliport    Pellegrin Centre Hospitalier Heliport   \n",
       "20876  FR-0027  heliport  Robert Piqué Hôpital Militaire Heliport   \n",
       "31029     LFDO    closed                  Bordeaux Souge Air Base   \n",
       "\n",
       "       elevation_ft continent iso_country iso_region municipality gps_code  \\\n",
       "20873         344.0        EU          FR       FR-B     Bordeaux      NaN   \n",
       "20876          62.0        EU          FR       FR-B     Bordeaux      NaN   \n",
       "31029         135.0        EU          FR       FR-B     Bordeaux     LFDO   \n",
       "\n",
       "      iata_code local_code                             coordinates  \n",
       "20873       NaN        NaN  44.82749938964844, -0.6044440269470215  \n",
       "20876       NaN        NaN   44.79999923706055, -0.574167013168335  \n",
       "31029       NaN        NaN                    44.851093, -0.805493  "
      ]
     },
     "execution_count": 104,
     "metadata": {},
     "output_type": "execute_result"
    }
   ],
   "source": [
    "air_codes[air_codes.municipality=='Bordeaux']"
   ]
  },
  {
   "cell_type": "code",
   "execution_count": 64,
   "metadata": {},
   "outputs": [
    {
     "data": {
      "text/html": [
       "<div>\n",
       "<style scoped>\n",
       "    .dataframe tbody tr th:only-of-type {\n",
       "        vertical-align: middle;\n",
       "    }\n",
       "\n",
       "    .dataframe tbody tr th {\n",
       "        vertical-align: top;\n",
       "    }\n",
       "\n",
       "    .dataframe thead th {\n",
       "        text-align: right;\n",
       "    }\n",
       "</style>\n",
       "<table border=\"1\" class=\"dataframe\">\n",
       "  <thead>\n",
       "    <tr style=\"text-align: right;\">\n",
       "      <th></th>\n",
       "      <th>ident</th>\n",
       "      <th>type</th>\n",
       "      <th>name</th>\n",
       "      <th>elevation_ft</th>\n",
       "      <th>continent</th>\n",
       "      <th>iso_country</th>\n",
       "      <th>iso_region</th>\n",
       "      <th>municipality</th>\n",
       "      <th>gps_code</th>\n",
       "      <th>iata_code</th>\n",
       "      <th>local_code</th>\n",
       "      <th>coordinates</th>\n",
       "    </tr>\n",
       "  </thead>\n",
       "  <tbody>\n",
       "    <tr>\n",
       "      <th>31374</th>\n",
       "      <td>LFST</td>\n",
       "      <td>medium_airport</td>\n",
       "      <td>Strasbourg Airport</td>\n",
       "      <td>505.0</td>\n",
       "      <td>EU</td>\n",
       "      <td>FR</td>\n",
       "      <td>FR-A</td>\n",
       "      <td>Strasbourg</td>\n",
       "      <td>LFST</td>\n",
       "      <td>SXB</td>\n",
       "      <td>NaN</td>\n",
       "      <td>48.538299560546875, 7.628230094909668</td>\n",
       "    </tr>\n",
       "  </tbody>\n",
       "</table>\n",
       "</div>"
      ],
      "text/plain": [
       "      ident            type                name  elevation_ft continent  \\\n",
       "31374  LFST  medium_airport  Strasbourg Airport         505.0        EU   \n",
       "\n",
       "      iso_country iso_region municipality gps_code iata_code local_code  \\\n",
       "31374          FR       FR-A   Strasbourg     LFST       SXB        NaN   \n",
       "\n",
       "                                 coordinates  \n",
       "31374  48.538299560546875, 7.628230094909668  "
      ]
     },
     "execution_count": 64,
     "metadata": {},
     "output_type": "execute_result"
    }
   ],
   "source": [
    "air_codes2[air_codes2.municipality=='Strasbourg']"
   ]
  },
  {
   "cell_type": "markdown",
   "metadata": {},
   "source": [
    "## GOOGLE FLIGHTS"
   ]
  },
  {
   "cell_type": "code",
   "execution_count": null,
   "metadata": {},
   "outputs": [],
   "source": [
    "\n",
    "from selenium import webdriver\n",
    "from selenium.webdriver.common.by import By\n",
    "from selenium.webdriver.common.keys import Keys\n",
    "import pandas as pd\n",
    "import html\n",
    "import re\n",
    "import time\n",
    "from selenium.webdriver.chrome.options import Options  \n",
    "\n",
    "\n",
    "\n",
    "aero_depart = '/m/05qtj' #PAR\n",
    "aero_arrivee = 'DUB'\n",
    "date_depart = \"2019-08-23\"\n",
    "heure_depart = \"1800-2400\"\n",
    "date_retour = \"2019-08-25\"\n",
    "heure_retour = \"1200-2400\"\n",
    "time_sleep = 1\n",
    "\n",
    "\n",
    "url = 'https://www.google.com/flights/#flt=' + aero_depart +\".\"+ aero_arrivee + \".\" + date_depart+\"*\"+aero_arrivee+\".\"   +aero_depart +\".\" + date_retour  +\";c:EUR;e:1;s:0*0;dt:\"+heure_depart+\";at:\"+heure_retour+\";sd:1;t:f\"\n",
    "\n",
    "\n",
    "\n",
    "chrome_options = Options()  \n",
    "chrome_options.add_argument(\"--headless\")\n",
    "browser = webdriver.Chrome(executable_path='/usr/bin/chromedriver')#, options=chrome_options)\n",
    "#driver url 'https://chromedriver.storage.googleapis.com/76.0.3809.68/chromedriver_linux64.zip'\n",
    "\n",
    "\n",
    "\n",
    "\n",
    "\n",
    "browser.get(url)\n",
    "time.sleep(time_sleep)\n",
    "#source = browser.page_source\n",
    "\n",
    "a_r = []\n",
    "num_aller = len(browser.find_elements_by_xpath('//li[contains(@class,\"gws-flights-results__result-item\")]'))\n",
    "\n",
    "\n",
    "for i in range(num_aller):\n",
    "    clicks = browser.find_elements_by_xpath('//li[contains(@class,\"gws-flights-results__result-item\")]')\n",
    "    aller = (clicks[i].text)\n",
    "    print('ALLER\\n',clicks[i].text)\n",
    "    print()\n",
    "    clicks[i].click()\n",
    "    time.sleep(time_sleep)\n",
    "    a = browser.find_elements_by_xpath('//li[contains(@class,\"gws-flights-results__result-item\")]')\n",
    "    if len(a)>2:\n",
    "        a = a[0:2]\n",
    "    retour= [i.text for i in a]\n",
    "    a_r.append([aller,retour])\n",
    "   \n",
    "    print('RETOUR\\n',retour)\n",
    "    browser.execute_script(\"window.history.go(-1)\")\n",
    "    time.sleep(time_sleep)\n",
    "    print()\n",
    "browser.quit()    \n",
    "# alternate way to get flight info\n",
    "#parsed_html = BeautifulSoup(source)\n",
    "#vols = parsed_html.body.findAll('jsl', attrs={'jstcache':'9041'})\n",
    "\n",
    "\n",
    "#for i in vols:\n",
    "#    a = html.unescape(i.text)\n",
    "#    b = '\\n'.join(a.split('.'))\n",
    "#    print(b)\n",
    "\n",
    "\n",
    "\n",
    "\n",
    "\n"
   ]
  },
  {
   "cell_type": "markdown",
   "metadata": {},
   "source": [
    "## eurostar"
   ]
  },
  {
   "cell_type": "code",
   "execution_count": 65,
   "metadata": {},
   "outputs": [
    {
     "data": {
      "text/plain": [
       "'https://booking.eurostar.com/fr-fr/train-search?origin=8727100&destination=7015400&adult=1&outbound-date=2019-09-13&inbound-date=2019-09-15'"
      ]
     },
     "execution_count": 65,
     "metadata": {},
     "output_type": "execute_result"
    }
   ],
   "source": [
    "origin = '8727100'\n",
    "dest = '7015400'\n",
    "adults = '1'\n",
    "outbound_date = '2019-09-13'\n",
    "inbound_date = '2019-09-15'\n",
    "\n",
    "url ='https://booking.eurostar.com/fr-fr/train-search?origin={}&destination={}&adult={}&outbound-date={}&inbound-date={}'.format(\n",
    "    origin, dest,adults,outbound_date,inbound_date)\n",
    "\n",
    "url"
   ]
  },
  {
   "cell_type": "code",
   "execution_count": null,
   "metadata": {},
   "outputs": [],
   "source": []
  }
 ],
 "metadata": {
  "kernelspec": {
   "display_name": "tf",
   "language": "python",
   "name": "tf"
  },
  "language_info": {
   "codemirror_mode": {
    "name": "ipython",
    "version": 3
   },
   "file_extension": ".py",
   "mimetype": "text/x-python",
   "name": "python",
   "nbconvert_exporter": "python",
   "pygments_lexer": "ipython3",
   "version": "3.6.8"
  }
 },
 "nbformat": 4,
 "nbformat_minor": 2
}
